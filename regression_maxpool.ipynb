{
 "cells": [
  {
   "cell_type": "code",
   "execution_count": 1,
   "metadata": {},
   "outputs": [],
   "source": [
    "import os\n",
    "import numpy as np\n",
    "import pandas as pd\n",
    "from random import randint,seed\n",
    "from tqdm import tqdm\n",
    "from sklearn import linear_model\n",
    "from sklearn.linear_model import LinearRegression\n",
    "from sklearn.model_selection import train_test_split\n",
    "from sklearn.svm import SVR\n",
    "from sklearn.neural_network import MLPRegressor\n",
    "from sklearn.neighbors import KNeighborsRegressor\n",
    "import matplotlib.pyplot as plt\n",
    "from sklearn.preprocessing import StandardScaler,MinMaxScaler \n",
    "from sklearn.model_selection import cross_val_score\n",
    "from sklearn.model_selection import ShuffleSplit"
   ]
  },
  {
   "cell_type": "code",
   "execution_count": 2,
   "metadata": {},
   "outputs": [
    {
     "name": "stdout",
     "output_type": "stream",
     "text": [
      "(2500, 8)\n",
      "(2500, 8)\n",
      "(2500, 8)\n",
      "(2500, 8)\n"
     ]
    }
   ],
   "source": [
    "df1 = pd.read_csv('data_conv/max_conv1.csv')\n",
    "df1['freq'] = 1200\n",
    "print (df1.shape)\n",
    "df2 = pd.read_csv('data_conv/max_conv2.csv')\n",
    "df2['freq'] = 800\n",
    "print (df2.shape)\n",
    "df3 = pd.read_csv('data_conv/max_conv3.csv')\n",
    "df3['freq'] = 600\n",
    "print (df3.shape)\n",
    "df4 = pd.read_csv('data_conv/max_conv4.csv')\n",
    "df4['freq'] = 1000\n",
    "print (df4.shape)"
   ]
  },
  {
   "cell_type": "code",
   "execution_count": 3,
   "metadata": {},
   "outputs": [],
   "source": [
    "df = pd.concat([df1, df2,df3,df4], ignore_index=True)"
   ]
  },
  {
   "cell_type": "code",
   "execution_count": 4,
   "metadata": {},
   "outputs": [
    {
     "data": {
      "text/html": [
       "<div>\n",
       "<style scoped>\n",
       "    .dataframe tbody tr th:only-of-type {\n",
       "        vertical-align: middle;\n",
       "    }\n",
       "\n",
       "    .dataframe tbody tr th {\n",
       "        vertical-align: top;\n",
       "    }\n",
       "\n",
       "    .dataframe thead th {\n",
       "        text-align: right;\n",
       "    }\n",
       "</style>\n",
       "<table border=\"1\" class=\"dataframe\">\n",
       "  <thead>\n",
       "    <tr style=\"text-align: right;\">\n",
       "      <th></th>\n",
       "      <th>Unnamed: 0</th>\n",
       "      <th>input_size_h</th>\n",
       "      <th>input_size_w</th>\n",
       "      <th>channels</th>\n",
       "      <th>filter_size</th>\n",
       "      <th>stride</th>\n",
       "      <th>runtime</th>\n",
       "      <th>freq</th>\n",
       "    </tr>\n",
       "  </thead>\n",
       "  <tbody>\n",
       "    <tr>\n",
       "      <th>0</th>\n",
       "      <td>0</td>\n",
       "      <td>89</td>\n",
       "      <td>123</td>\n",
       "      <td>58</td>\n",
       "      <td>3</td>\n",
       "      <td>2</td>\n",
       "      <td>0.032802</td>\n",
       "      <td>1200</td>\n",
       "    </tr>\n",
       "    <tr>\n",
       "      <th>1</th>\n",
       "      <td>1</td>\n",
       "      <td>214</td>\n",
       "      <td>295</td>\n",
       "      <td>6</td>\n",
       "      <td>2</td>\n",
       "      <td>2</td>\n",
       "      <td>0.011058</td>\n",
       "      <td>1200</td>\n",
       "    </tr>\n",
       "    <tr>\n",
       "      <th>2</th>\n",
       "      <td>2</td>\n",
       "      <td>266</td>\n",
       "      <td>35</td>\n",
       "      <td>101</td>\n",
       "      <td>3</td>\n",
       "      <td>2</td>\n",
       "      <td>0.047136</td>\n",
       "      <td>1200</td>\n",
       "    </tr>\n",
       "    <tr>\n",
       "      <th>3</th>\n",
       "      <td>3</td>\n",
       "      <td>37</td>\n",
       "      <td>142</td>\n",
       "      <td>123</td>\n",
       "      <td>2</td>\n",
       "      <td>3</td>\n",
       "      <td>0.008245</td>\n",
       "      <td>1200</td>\n",
       "    </tr>\n",
       "    <tr>\n",
       "      <th>4</th>\n",
       "      <td>4</td>\n",
       "      <td>47</td>\n",
       "      <td>19</td>\n",
       "      <td>131</td>\n",
       "      <td>2</td>\n",
       "      <td>3</td>\n",
       "      <td>0.001566</td>\n",
       "      <td>1200</td>\n",
       "    </tr>\n",
       "  </tbody>\n",
       "</table>\n",
       "</div>"
      ],
      "text/plain": [
       "   Unnamed: 0  input_size_h  input_size_w  channels  filter_size  stride  \\\n",
       "0           0            89           123        58            3       2   \n",
       "1           1           214           295         6            2       2   \n",
       "2           2           266            35       101            3       2   \n",
       "3           3            37           142       123            2       3   \n",
       "4           4            47            19       131            2       3   \n",
       "\n",
       "    runtime  freq  \n",
       "0  0.032802  1200  \n",
       "1  0.011058  1200  \n",
       "2  0.047136  1200  \n",
       "3  0.008245  1200  \n",
       "4  0.001566  1200  "
      ]
     },
     "execution_count": 4,
     "metadata": {},
     "output_type": "execute_result"
    }
   ],
   "source": [
    "df.head()"
   ]
  },
  {
   "cell_type": "code",
   "execution_count": 5,
   "metadata": {},
   "outputs": [
    {
     "data": {
      "text/html": [
       "<div>\n",
       "<style scoped>\n",
       "    .dataframe tbody tr th:only-of-type {\n",
       "        vertical-align: middle;\n",
       "    }\n",
       "\n",
       "    .dataframe tbody tr th {\n",
       "        vertical-align: top;\n",
       "    }\n",
       "\n",
       "    .dataframe thead th {\n",
       "        text-align: right;\n",
       "    }\n",
       "</style>\n",
       "<table border=\"1\" class=\"dataframe\">\n",
       "  <thead>\n",
       "    <tr style=\"text-align: right;\">\n",
       "      <th></th>\n",
       "      <th>input_size_h</th>\n",
       "      <th>input_size_w</th>\n",
       "      <th>channels</th>\n",
       "      <th>filter_size</th>\n",
       "      <th>stride</th>\n",
       "      <th>runtime</th>\n",
       "      <th>freq</th>\n",
       "    </tr>\n",
       "  </thead>\n",
       "  <tbody>\n",
       "    <tr>\n",
       "      <th>0</th>\n",
       "      <td>89</td>\n",
       "      <td>123</td>\n",
       "      <td>58</td>\n",
       "      <td>3</td>\n",
       "      <td>2</td>\n",
       "      <td>0.032802</td>\n",
       "      <td>1200</td>\n",
       "    </tr>\n",
       "    <tr>\n",
       "      <th>1</th>\n",
       "      <td>214</td>\n",
       "      <td>295</td>\n",
       "      <td>6</td>\n",
       "      <td>2</td>\n",
       "      <td>2</td>\n",
       "      <td>0.011058</td>\n",
       "      <td>1200</td>\n",
       "    </tr>\n",
       "    <tr>\n",
       "      <th>2</th>\n",
       "      <td>266</td>\n",
       "      <td>35</td>\n",
       "      <td>101</td>\n",
       "      <td>3</td>\n",
       "      <td>2</td>\n",
       "      <td>0.047136</td>\n",
       "      <td>1200</td>\n",
       "    </tr>\n",
       "    <tr>\n",
       "      <th>3</th>\n",
       "      <td>37</td>\n",
       "      <td>142</td>\n",
       "      <td>123</td>\n",
       "      <td>2</td>\n",
       "      <td>3</td>\n",
       "      <td>0.008245</td>\n",
       "      <td>1200</td>\n",
       "    </tr>\n",
       "    <tr>\n",
       "      <th>4</th>\n",
       "      <td>47</td>\n",
       "      <td>19</td>\n",
       "      <td>131</td>\n",
       "      <td>2</td>\n",
       "      <td>3</td>\n",
       "      <td>0.001566</td>\n",
       "      <td>1200</td>\n",
       "    </tr>\n",
       "  </tbody>\n",
       "</table>\n",
       "</div>"
      ],
      "text/plain": [
       "   input_size_h  input_size_w  channels  filter_size  stride   runtime  freq\n",
       "0            89           123        58            3       2  0.032802  1200\n",
       "1           214           295         6            2       2  0.011058  1200\n",
       "2           266            35       101            3       2  0.047136  1200\n",
       "3            37           142       123            2       3  0.008245  1200\n",
       "4            47            19       131            2       3  0.001566  1200"
      ]
     },
     "execution_count": 5,
     "metadata": {},
     "output_type": "execute_result"
    }
   ],
   "source": [
    "df = df.drop(columns=['Unnamed: 0'])\n",
    "df.head()"
   ]
  },
  {
   "cell_type": "code",
   "execution_count": 6,
   "metadata": {},
   "outputs": [
    {
     "data": {
      "text/html": [
       "<div>\n",
       "<style scoped>\n",
       "    .dataframe tbody tr th:only-of-type {\n",
       "        vertical-align: middle;\n",
       "    }\n",
       "\n",
       "    .dataframe tbody tr th {\n",
       "        vertical-align: top;\n",
       "    }\n",
       "\n",
       "    .dataframe thead th {\n",
       "        text-align: right;\n",
       "    }\n",
       "</style>\n",
       "<table border=\"1\" class=\"dataframe\">\n",
       "  <thead>\n",
       "    <tr style=\"text-align: right;\">\n",
       "      <th></th>\n",
       "      <th>input_size_h</th>\n",
       "      <th>input_size_w</th>\n",
       "      <th>channels</th>\n",
       "      <th>filter_size</th>\n",
       "      <th>stride</th>\n",
       "      <th>runtime</th>\n",
       "      <th>freq</th>\n",
       "    </tr>\n",
       "  </thead>\n",
       "  <tbody>\n",
       "    <tr>\n",
       "      <th>0</th>\n",
       "      <td>89</td>\n",
       "      <td>123</td>\n",
       "      <td>58</td>\n",
       "      <td>3</td>\n",
       "      <td>2</td>\n",
       "      <td>0.032802</td>\n",
       "      <td>1200</td>\n",
       "    </tr>\n",
       "    <tr>\n",
       "      <th>1</th>\n",
       "      <td>214</td>\n",
       "      <td>295</td>\n",
       "      <td>6</td>\n",
       "      <td>2</td>\n",
       "      <td>2</td>\n",
       "      <td>0.011058</td>\n",
       "      <td>1200</td>\n",
       "    </tr>\n",
       "    <tr>\n",
       "      <th>2</th>\n",
       "      <td>266</td>\n",
       "      <td>35</td>\n",
       "      <td>101</td>\n",
       "      <td>3</td>\n",
       "      <td>2</td>\n",
       "      <td>0.047136</td>\n",
       "      <td>1200</td>\n",
       "    </tr>\n",
       "    <tr>\n",
       "      <th>3</th>\n",
       "      <td>37</td>\n",
       "      <td>142</td>\n",
       "      <td>123</td>\n",
       "      <td>2</td>\n",
       "      <td>3</td>\n",
       "      <td>0.008245</td>\n",
       "      <td>1200</td>\n",
       "    </tr>\n",
       "    <tr>\n",
       "      <th>4</th>\n",
       "      <td>47</td>\n",
       "      <td>19</td>\n",
       "      <td>131</td>\n",
       "      <td>2</td>\n",
       "      <td>3</td>\n",
       "      <td>0.001566</td>\n",
       "      <td>1200</td>\n",
       "    </tr>\n",
       "  </tbody>\n",
       "</table>\n",
       "</div>"
      ],
      "text/plain": [
       "   input_size_h  input_size_w  channels  filter_size  stride   runtime  freq\n",
       "0            89           123        58            3       2  0.032802  1200\n",
       "1           214           295         6            2       2  0.011058  1200\n",
       "2           266            35       101            3       2  0.047136  1200\n",
       "3            37           142       123            2       3  0.008245  1200\n",
       "4            47            19       131            2       3  0.001566  1200"
      ]
     },
     "execution_count": 6,
     "metadata": {},
     "output_type": "execute_result"
    }
   ],
   "source": [
    "df_ = df.dropna(axis=0)\n",
    "df_.head()"
   ]
  },
  {
   "cell_type": "code",
   "execution_count": 7,
   "metadata": {},
   "outputs": [
    {
     "data": {
      "text/plain": [
       "(10000, 7)"
      ]
     },
     "execution_count": 7,
     "metadata": {},
     "output_type": "execute_result"
    }
   ],
   "source": [
    "df_.shape"
   ]
  },
  {
   "cell_type": "code",
   "execution_count": 8,
   "metadata": {},
   "outputs": [],
   "source": [
    "df_['in_size'] = df_.input_size_h*df_.input_size_w"
   ]
  },
  {
   "cell_type": "code",
   "execution_count": 9,
   "metadata": {},
   "outputs": [
    {
     "data": {
      "text/html": [
       "<div>\n",
       "<style scoped>\n",
       "    .dataframe tbody tr th:only-of-type {\n",
       "        vertical-align: middle;\n",
       "    }\n",
       "\n",
       "    .dataframe tbody tr th {\n",
       "        vertical-align: top;\n",
       "    }\n",
       "\n",
       "    .dataframe thead th {\n",
       "        text-align: right;\n",
       "    }\n",
       "</style>\n",
       "<table border=\"1\" class=\"dataframe\">\n",
       "  <thead>\n",
       "    <tr style=\"text-align: right;\">\n",
       "      <th></th>\n",
       "      <th>input_size_h</th>\n",
       "      <th>input_size_w</th>\n",
       "      <th>channels</th>\n",
       "      <th>filter_size</th>\n",
       "      <th>stride</th>\n",
       "      <th>runtime</th>\n",
       "      <th>freq</th>\n",
       "      <th>in_size</th>\n",
       "    </tr>\n",
       "  </thead>\n",
       "  <tbody>\n",
       "    <tr>\n",
       "      <th>0</th>\n",
       "      <td>89</td>\n",
       "      <td>123</td>\n",
       "      <td>58</td>\n",
       "      <td>3</td>\n",
       "      <td>2</td>\n",
       "      <td>0.032802</td>\n",
       "      <td>1200</td>\n",
       "      <td>10947</td>\n",
       "    </tr>\n",
       "    <tr>\n",
       "      <th>1</th>\n",
       "      <td>214</td>\n",
       "      <td>295</td>\n",
       "      <td>6</td>\n",
       "      <td>2</td>\n",
       "      <td>2</td>\n",
       "      <td>0.011058</td>\n",
       "      <td>1200</td>\n",
       "      <td>63130</td>\n",
       "    </tr>\n",
       "    <tr>\n",
       "      <th>2</th>\n",
       "      <td>266</td>\n",
       "      <td>35</td>\n",
       "      <td>101</td>\n",
       "      <td>3</td>\n",
       "      <td>2</td>\n",
       "      <td>0.047136</td>\n",
       "      <td>1200</td>\n",
       "      <td>9310</td>\n",
       "    </tr>\n",
       "    <tr>\n",
       "      <th>3</th>\n",
       "      <td>37</td>\n",
       "      <td>142</td>\n",
       "      <td>123</td>\n",
       "      <td>2</td>\n",
       "      <td>3</td>\n",
       "      <td>0.008245</td>\n",
       "      <td>1200</td>\n",
       "      <td>5254</td>\n",
       "    </tr>\n",
       "    <tr>\n",
       "      <th>4</th>\n",
       "      <td>47</td>\n",
       "      <td>19</td>\n",
       "      <td>131</td>\n",
       "      <td>2</td>\n",
       "      <td>3</td>\n",
       "      <td>0.001566</td>\n",
       "      <td>1200</td>\n",
       "      <td>893</td>\n",
       "    </tr>\n",
       "  </tbody>\n",
       "</table>\n",
       "</div>"
      ],
      "text/plain": [
       "   input_size_h  input_size_w  channels  filter_size  stride   runtime  freq  \\\n",
       "0            89           123        58            3       2  0.032802  1200   \n",
       "1           214           295         6            2       2  0.011058  1200   \n",
       "2           266            35       101            3       2  0.047136  1200   \n",
       "3            37           142       123            2       3  0.008245  1200   \n",
       "4            47            19       131            2       3  0.001566  1200   \n",
       "\n",
       "   in_size  \n",
       "0    10947  \n",
       "1    63130  \n",
       "2     9310  \n",
       "3     5254  \n",
       "4      893  "
      ]
     },
     "execution_count": 9,
     "metadata": {},
     "output_type": "execute_result"
    }
   ],
   "source": [
    "df_.head()"
   ]
  },
  {
   "cell_type": "code",
   "execution_count": 10,
   "metadata": {},
   "outputs": [
    {
     "data": {
      "text/html": [
       "<div>\n",
       "<style scoped>\n",
       "    .dataframe tbody tr th:only-of-type {\n",
       "        vertical-align: middle;\n",
       "    }\n",
       "\n",
       "    .dataframe tbody tr th {\n",
       "        vertical-align: top;\n",
       "    }\n",
       "\n",
       "    .dataframe thead th {\n",
       "        text-align: right;\n",
       "    }\n",
       "</style>\n",
       "<table border=\"1\" class=\"dataframe\">\n",
       "  <thead>\n",
       "    <tr style=\"text-align: right;\">\n",
       "      <th></th>\n",
       "      <th>freq</th>\n",
       "      <th>in_size</th>\n",
       "      <th>channels</th>\n",
       "      <th>filter_size</th>\n",
       "      <th>stride</th>\n",
       "    </tr>\n",
       "  </thead>\n",
       "  <tbody>\n",
       "    <tr>\n",
       "      <th>0</th>\n",
       "      <td>1200</td>\n",
       "      <td>10947</td>\n",
       "      <td>58</td>\n",
       "      <td>3</td>\n",
       "      <td>2</td>\n",
       "    </tr>\n",
       "    <tr>\n",
       "      <th>1</th>\n",
       "      <td>1200</td>\n",
       "      <td>63130</td>\n",
       "      <td>6</td>\n",
       "      <td>2</td>\n",
       "      <td>2</td>\n",
       "    </tr>\n",
       "    <tr>\n",
       "      <th>2</th>\n",
       "      <td>1200</td>\n",
       "      <td>9310</td>\n",
       "      <td>101</td>\n",
       "      <td>3</td>\n",
       "      <td>2</td>\n",
       "    </tr>\n",
       "    <tr>\n",
       "      <th>3</th>\n",
       "      <td>1200</td>\n",
       "      <td>5254</td>\n",
       "      <td>123</td>\n",
       "      <td>2</td>\n",
       "      <td>3</td>\n",
       "    </tr>\n",
       "    <tr>\n",
       "      <th>4</th>\n",
       "      <td>1200</td>\n",
       "      <td>893</td>\n",
       "      <td>131</td>\n",
       "      <td>2</td>\n",
       "      <td>3</td>\n",
       "    </tr>\n",
       "  </tbody>\n",
       "</table>\n",
       "</div>"
      ],
      "text/plain": [
       "   freq  in_size  channels  filter_size  stride\n",
       "0  1200    10947        58            3       2\n",
       "1  1200    63130         6            2       2\n",
       "2  1200     9310       101            3       2\n",
       "3  1200     5254       123            2       3\n",
       "4  1200      893       131            2       3"
      ]
     },
     "execution_count": 10,
     "metadata": {},
     "output_type": "execute_result"
    }
   ],
   "source": [
    "data = df_[['freq','in_size' ,'channels','filter_size' ,'stride']]\n",
    "data = data\n",
    "data.head()"
   ]
  },
  {
   "cell_type": "code",
   "execution_count": 11,
   "metadata": {},
   "outputs": [
    {
     "data": {
      "text/plain": [
       "freq             1200\n",
       "in_size        200256\n",
       "channels        66785\n",
       "filter_size         3\n",
       "stride              3\n",
       "dtype: int64"
      ]
     },
     "execution_count": 11,
     "metadata": {},
     "output_type": "execute_result"
    }
   ],
   "source": [
    "data.max(axis=0)"
   ]
  },
  {
   "cell_type": "code",
   "execution_count": 12,
   "metadata": {},
   "outputs": [
    {
     "data": {
      "text/html": [
       "<div>\n",
       "<style scoped>\n",
       "    .dataframe tbody tr th:only-of-type {\n",
       "        vertical-align: middle;\n",
       "    }\n",
       "\n",
       "    .dataframe tbody tr th {\n",
       "        vertical-align: top;\n",
       "    }\n",
       "\n",
       "    .dataframe thead th {\n",
       "        text-align: right;\n",
       "    }\n",
       "</style>\n",
       "<table border=\"1\" class=\"dataframe\">\n",
       "  <thead>\n",
       "    <tr style=\"text-align: right;\">\n",
       "      <th></th>\n",
       "      <th>freq</th>\n",
       "      <th>in_size</th>\n",
       "      <th>channels</th>\n",
       "      <th>filter_size</th>\n",
       "      <th>stride</th>\n",
       "    </tr>\n",
       "  </thead>\n",
       "  <tbody>\n",
       "    <tr>\n",
       "      <th>count</th>\n",
       "      <td>10000.000000</td>\n",
       "      <td>10000.000000</td>\n",
       "      <td>10000.000000</td>\n",
       "      <td>10000.000000</td>\n",
       "      <td>10000.000000</td>\n",
       "    </tr>\n",
       "    <tr>\n",
       "      <th>mean</th>\n",
       "      <td>900.000000</td>\n",
       "      <td>50812.466300</td>\n",
       "      <td>111.595200</td>\n",
       "      <td>2.497200</td>\n",
       "      <td>2.484200</td>\n",
       "    </tr>\n",
       "    <tr>\n",
       "      <th>std</th>\n",
       "      <td>223.617979</td>\n",
       "      <td>44565.103857</td>\n",
       "      <td>1236.778045</td>\n",
       "      <td>0.500017</td>\n",
       "      <td>0.499775</td>\n",
       "    </tr>\n",
       "    <tr>\n",
       "      <th>min</th>\n",
       "      <td>600.000000</td>\n",
       "      <td>8.000000</td>\n",
       "      <td>1.000000</td>\n",
       "      <td>2.000000</td>\n",
       "      <td>2.000000</td>\n",
       "    </tr>\n",
       "    <tr>\n",
       "      <th>25%</th>\n",
       "      <td>750.000000</td>\n",
       "      <td>14159.250000</td>\n",
       "      <td>5.000000</td>\n",
       "      <td>2.000000</td>\n",
       "      <td>2.000000</td>\n",
       "    </tr>\n",
       "    <tr>\n",
       "      <th>50%</th>\n",
       "      <td>900.000000</td>\n",
       "      <td>38476.000000</td>\n",
       "      <td>12.000000</td>\n",
       "      <td>2.000000</td>\n",
       "      <td>2.000000</td>\n",
       "    </tr>\n",
       "    <tr>\n",
       "      <th>75%</th>\n",
       "      <td>1050.000000</td>\n",
       "      <td>77441.250000</td>\n",
       "      <td>33.000000</td>\n",
       "      <td>3.000000</td>\n",
       "      <td>3.000000</td>\n",
       "    </tr>\n",
       "    <tr>\n",
       "      <th>max</th>\n",
       "      <td>1200.000000</td>\n",
       "      <td>200256.000000</td>\n",
       "      <td>66785.000000</td>\n",
       "      <td>3.000000</td>\n",
       "      <td>3.000000</td>\n",
       "    </tr>\n",
       "  </tbody>\n",
       "</table>\n",
       "</div>"
      ],
      "text/plain": [
       "               freq        in_size      channels   filter_size        stride\n",
       "count  10000.000000   10000.000000  10000.000000  10000.000000  10000.000000\n",
       "mean     900.000000   50812.466300    111.595200      2.497200      2.484200\n",
       "std      223.617979   44565.103857   1236.778045      0.500017      0.499775\n",
       "min      600.000000       8.000000      1.000000      2.000000      2.000000\n",
       "25%      750.000000   14159.250000      5.000000      2.000000      2.000000\n",
       "50%      900.000000   38476.000000     12.000000      2.000000      2.000000\n",
       "75%     1050.000000   77441.250000     33.000000      3.000000      3.000000\n",
       "max     1200.000000  200256.000000  66785.000000      3.000000      3.000000"
      ]
     },
     "execution_count": 12,
     "metadata": {},
     "output_type": "execute_result"
    }
   ],
   "source": [
    "data.describe()"
   ]
  },
  {
   "cell_type": "code",
   "execution_count": 13,
   "metadata": {},
   "outputs": [
    {
     "data": {
      "text/plain": [
       "0    1.515900\n",
       "1    1.043677\n",
       "2    1.673353\n",
       "3    0.916191\n",
       "4    0.194792\n",
       "Name: runtime, dtype: float64"
      ]
     },
     "execution_count": 13,
     "metadata": {},
     "output_type": "execute_result"
    }
   ],
   "source": [
    "target = np.log10(df_.runtime*1000)\n",
    "target.head()"
   ]
  },
  {
   "cell_type": "code",
   "execution_count": 14,
   "metadata": {},
   "outputs": [],
   "source": [
    "scaler = StandardScaler() \n",
    "#scaler = MinMaxScaler()\n",
    "scaler.fit(data)  \n",
    "data = scaler.transform(data)  \n",
    "#X_test = scaler.transform(X_test) \n",
    "X_train, X_test, y_train, y_test = train_test_split(data, target, test_size=0.2, random_state=0)"
   ]
  },
  {
   "cell_type": "code",
   "execution_count": 15,
   "metadata": {},
   "outputs": [
    {
     "data": {
      "text/html": [
       "<div>\n",
       "<style scoped>\n",
       "    .dataframe tbody tr th:only-of-type {\n",
       "        vertical-align: middle;\n",
       "    }\n",
       "\n",
       "    .dataframe tbody tr th {\n",
       "        vertical-align: top;\n",
       "    }\n",
       "\n",
       "    .dataframe thead th {\n",
       "        text-align: right;\n",
       "    }\n",
       "</style>\n",
       "<table border=\"1\" class=\"dataframe\">\n",
       "  <thead>\n",
       "    <tr style=\"text-align: right;\">\n",
       "      <th></th>\n",
       "      <th>0</th>\n",
       "      <th>1</th>\n",
       "      <th>2</th>\n",
       "      <th>3</th>\n",
       "      <th>4</th>\n",
       "    </tr>\n",
       "  </thead>\n",
       "  <tbody>\n",
       "    <tr>\n",
       "      <th>count</th>\n",
       "      <td>8000.000000</td>\n",
       "      <td>8000.000000</td>\n",
       "      <td>8000.000000</td>\n",
       "      <td>8000.000000</td>\n",
       "      <td>8000.000000</td>\n",
       "    </tr>\n",
       "    <tr>\n",
       "      <th>mean</th>\n",
       "      <td>0.005814</td>\n",
       "      <td>0.008029</td>\n",
       "      <td>0.001720</td>\n",
       "      <td>0.000850</td>\n",
       "      <td>-0.001401</td>\n",
       "    </tr>\n",
       "    <tr>\n",
       "      <th>std</th>\n",
       "      <td>1.001644</td>\n",
       "      <td>1.005193</td>\n",
       "      <td>1.027832</td>\n",
       "      <td>1.000067</td>\n",
       "      <td>1.000017</td>\n",
       "    </tr>\n",
       "    <tr>\n",
       "      <th>min</th>\n",
       "      <td>-1.341641</td>\n",
       "      <td>-1.140063</td>\n",
       "      <td>-0.089426</td>\n",
       "      <td>-0.994416</td>\n",
       "      <td>-0.968884</td>\n",
       "    </tr>\n",
       "    <tr>\n",
       "      <th>25%</th>\n",
       "      <td>-0.447214</td>\n",
       "      <td>-0.820301</td>\n",
       "      <td>-0.086192</td>\n",
       "      <td>-0.994416</td>\n",
       "      <td>-0.968884</td>\n",
       "    </tr>\n",
       "    <tr>\n",
       "      <th>50%</th>\n",
       "      <td>0.447214</td>\n",
       "      <td>-0.262796</td>\n",
       "      <td>-0.080532</td>\n",
       "      <td>-0.994416</td>\n",
       "      <td>-0.968884</td>\n",
       "    </tr>\n",
       "    <tr>\n",
       "      <th>75%</th>\n",
       "      <td>1.341641</td>\n",
       "      <td>0.607233</td>\n",
       "      <td>-0.063552</td>\n",
       "      <td>1.005616</td>\n",
       "      <td>1.032115</td>\n",
       "    </tr>\n",
       "    <tr>\n",
       "      <th>max</th>\n",
       "      <td>1.341641</td>\n",
       "      <td>3.353543</td>\n",
       "      <td>53.911645</td>\n",
       "      <td>1.005616</td>\n",
       "      <td>1.032115</td>\n",
       "    </tr>\n",
       "  </tbody>\n",
       "</table>\n",
       "</div>"
      ],
      "text/plain": [
       "                 0            1            2            3            4\n",
       "count  8000.000000  8000.000000  8000.000000  8000.000000  8000.000000\n",
       "mean      0.005814     0.008029     0.001720     0.000850    -0.001401\n",
       "std       1.001644     1.005193     1.027832     1.000067     1.000017\n",
       "min      -1.341641    -1.140063    -0.089426    -0.994416    -0.968884\n",
       "25%      -0.447214    -0.820301    -0.086192    -0.994416    -0.968884\n",
       "50%       0.447214    -0.262796    -0.080532    -0.994416    -0.968884\n",
       "75%       1.341641     0.607233    -0.063552     1.005616     1.032115\n",
       "max       1.341641     3.353543    53.911645     1.005616     1.032115"
      ]
     },
     "execution_count": 15,
     "metadata": {},
     "output_type": "execute_result"
    }
   ],
   "source": [
    "new_df = pd.DataFrame(X_train)\n",
    "new_df.describe()"
   ]
  },
  {
   "cell_type": "code",
   "execution_count": 16,
   "metadata": {},
   "outputs": [
    {
     "name": "stdout",
     "output_type": "stream",
     "text": [
      "('accuracy: ', 25.482500951322884)\n",
      "[-0.10087407  0.03509439  0.01837085  0.11771525 -0.16633186]\n",
      "nonzero:  2000 / 2000\n"
     ]
    }
   ],
   "source": [
    "model = LinearRegression()\n",
    "model.fit(X_train, y_train)\n",
    "print('accuracy: ',model.score(X_test, y_test)*100)\n",
    "print (model.coef_)\n",
    "pred = model.predict(X_test)\n",
    "print 'nonzero: ',pred.shape[0]-pred[pred<0].shape[0],'/',pred.shape[0]"
   ]
  },
  {
   "cell_type": "code",
   "execution_count": 17,
   "metadata": {},
   "outputs": [
    {
     "name": "stdout",
     "output_type": "stream",
     "text": [
      "('accuracy: ', 25.48268541948049)\n",
      "[-0.1008678   0.03509205  0.01836947  0.11770803 -0.16632141]\n",
      "nonzero:  2000 / 2000\n"
     ]
    }
   ],
   "source": [
    "model = linear_model.Ridge(alpha=.5)\n",
    "model.fit(X_train, y_train) \n",
    "print('accuracy: ',model.score(X_test, y_test)*100)\n",
    "print (model.coef_)\n",
    "pred = model.predict(X_test)\n",
    "print 'nonzero: ',pred.shape[0]-pred[pred<0].shape[0],'/',pred.shape[0]"
   ]
  },
  {
   "cell_type": "code",
   "execution_count": 18,
   "metadata": {},
   "outputs": [
    {
     "name": "stdout",
     "output_type": "stream",
     "text": [
      "('accuracy: ', 11.248955080834632)\n",
      "[-0.00172574  0.          0.          0.01965243 -0.06556741]\n",
      "nonzero:  2000 / 2000\n"
     ]
    }
   ],
   "source": [
    "model = linear_model.Lasso(alpha=0.1)\n",
    "model.fit(X_train, y_train)\n",
    "print('accuracy: ',model.score(X_test, y_test)*100)\n",
    "print (model.coef_)\n",
    "pred = model.predict(X_test)\n",
    "print 'nonzero: ',pred.shape[0]-pred[pred<0].shape[0],'/',pred.shape[0]"
   ]
  },
  {
   "cell_type": "code",
   "execution_count": 19,
   "metadata": {},
   "outputs": [
    {
     "name": "stdout",
     "output_type": "stream",
     "text": [
      "('accuracy: ', 78.52657027510725)\n",
      "nonzero:  1997 / 2000\n"
     ]
    }
   ],
   "source": [
    "model = SVR(kernel='rbf', C=1e3, gamma=0.1)\n",
    "model.fit(X_train, y_train)\n",
    "print('accuracy: ',model.score(X_test, y_test)*100)\n",
    "pred = model.predict(X_test)\n",
    "print 'nonzero: ',pred.shape[0]-pred[pred<0].shape[0],'/',pred.shape[0]"
   ]
  },
  {
   "cell_type": "code",
   "execution_count": 20,
   "metadata": {},
   "outputs": [],
   "source": [
    "cv = ShuffleSplit(n_splits=5, test_size=0.3, random_state=0)\n",
    "model = MLPRegressor(hidden_layer_sizes=1024,learning_rate='invscaling',early_stopping=True,max_iter=1000)"
   ]
  },
  {
   "cell_type": "code",
   "execution_count": 21,
   "metadata": {},
   "outputs": [
    {
     "data": {
      "text/plain": [
       "array([0.27563588, 0.72408356, 0.30289745, 0.73849912, 0.78653047])"
      ]
     },
     "execution_count": 21,
     "metadata": {},
     "output_type": "execute_result"
    }
   ],
   "source": [
    "scaler.fit(data)  \n",
    "data_ = scaler.transform(data)\n",
    "scores = cross_val_score(model, data_, target, cv=cv) \n",
    "scores"
   ]
  },
  {
   "cell_type": "code",
   "execution_count": 22,
   "metadata": {},
   "outputs": [
    {
     "name": "stdout",
     "output_type": "stream",
     "text": [
      "('accuracy: ', 81.36248598789453)\n",
      "nonzero:  1990 / 2000\n"
     ]
    }
   ],
   "source": [
    "model = MLPRegressor(hidden_layer_sizes=2048,learning_rate='invscaling',early_stopping=True,max_iter=10000)\n",
    "model.fit(X_train, y_train)\n",
    "print('accuracy: ',model.score(X_test, y_test)*100)\n",
    "pred = model.predict(X_test)\n",
    "print 'nonzero: ',pred.shape[0]-pred[pred<0].shape[0],'/',pred.shape[0]"
   ]
  },
  {
   "cell_type": "code",
   "execution_count": 23,
   "metadata": {},
   "outputs": [],
   "source": [
    "bias = np.asarray(model.intercepts_)\n",
    "arr = np.asarray(model.coefs_)"
   ]
  },
  {
   "cell_type": "code",
   "execution_count": 33,
   "metadata": {},
   "outputs": [],
   "source": [
    "if os.path.exists(\"params_2.txt\"):\n",
    "    os.remove(\"params_2.txt\")\n",
    "f=open('params_2.txt','ab')\n",
    "print >> f, \"L0\"+\" W\"+\" \"+str(arr[0].shape[0])+\" \"+str(arr[0].shape[1]) \n",
    "np.savetxt(f,arr[0])\n",
    "print >> f, \"L0\"+\" B\"+\" \"+str(bias[0].shape[0])+\" 1\"\n",
    "np.savetxt(f,bias[0])\n",
    "\n",
    "print >> f, \"L1\"+\" W\"+\" \"+str(arr[1].shape[0])+\" \"+str(arr[1].shape[1]) \n",
    "np.savetxt(f,arr[1])\n",
    "print >> f, \"L1\"+\" B\"+\" \"+str(bias[1].shape[0])+\" 1\"\n",
    "np.savetxt(f,bias[1])\n",
    "f.close()"
   ]
  },
  {
   "cell_type": "code",
   "execution_count": 34,
   "metadata": {},
   "outputs": [
    {
     "name": "stdout",
     "output_type": "stream",
     "text": [
      "(2000, 5)\n",
      "(2000,)\n"
     ]
    }
   ],
   "source": [
    "print X_test.shape\n",
    "np.savetxt('input_2.txt',X_test)\n",
    "\n",
    "print model.predict(X_test).shape\n",
    "np.savetxt('output_2.txt',model.predict(X_test))\n"
   ]
  },
  {
   "cell_type": "code",
   "execution_count": 32,
   "metadata": {},
   "outputs": [
    {
     "name": "stdout",
     "output_type": "stream",
     "text": [
      "('accuracy: ', 79.16437324660866)\n",
      "nonzero:  1990 / 1990\n"
     ]
    }
   ],
   "source": [
    "model = KNeighborsRegressor(n_neighbors=10, weights='distance')\n",
    "model.fit(X_train, y_train)\n",
    "print('accuracy: ',model.score(X_test, y_test)*100)\n",
    "pred = model.predict(X_test)\n",
    "print 'nonzero: ',pred.shape[0]-pred[pred<0].shape[0],'/',pred.shape[0]"
   ]
  }
 ],
 "metadata": {
  "kernelspec": {
   "display_name": "Python 2",
   "language": "python",
   "name": "python2"
  },
  "language_info": {
   "codemirror_mode": {
    "name": "ipython",
    "version": 2
   },
   "file_extension": ".py",
   "mimetype": "text/x-python",
   "name": "python",
   "nbconvert_exporter": "python",
   "pygments_lexer": "ipython2",
   "version": "2.7.14"
  }
 },
 "nbformat": 4,
 "nbformat_minor": 2
}
