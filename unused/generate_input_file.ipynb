{
 "cells": [
  {
   "cell_type": "code",
   "execution_count": 7,
   "metadata": {},
   "outputs": [],
   "source": [
    "import numpy as np\n",
    "import pandas as pd\n",
    "from random import randint,seed\n",
    "from tqdm import tqdm\n",
    "from sklearn import linear_model\n",
    "from sklearn.linear_model import LinearRegression\n",
    "from sklearn.model_selection import train_test_split\n",
    "from sklearn.svm import SVR\n",
    "from sklearn.neural_network import MLPRegressor\n",
    "from sklearn.neighbors import KNeighborsRegressor\n",
    "import matplotlib.pyplot as plt\n",
    "from sklearn.preprocessing import StandardScaler,MinMaxScaler "
   ]
  },
  {
   "cell_type": "code",
   "execution_count": 27,
   "metadata": {},
   "outputs": [],
   "source": [
    "def create_traindata():\n",
    "    list_random=[]\n",
    "    counter=0\n",
    "    while counter < 20000:\n",
    "        while(True):\n",
    "            #seed(counter+1)\n",
    "            h = randint(1,448)\n",
    "            w = randint(1,448)\n",
    "            c = randint(1,1280)\n",
    "            n = randint(1,1024)\n",
    "            f = randint(1,min(11,min(h,w)))\n",
    "            s = randint(1,4)\n",
    "            if not ([h,w,c,n,f,s] in list_random):\n",
    "                break\n",
    "        list_random.append([h,w,c,n,f,s])\n",
    "        counter+=1\n",
    "    return list_random         \n",
    "def create_traindata2():\n",
    "    list_random=[]\n",
    "    counter=0\n",
    "    \n",
    "    H = list(int(2*1.6**p) for p in range(1,13))\n",
    "    W = list(int(2*1.6**p) for p in range(1,13))\n",
    "    C = list(int(2*1.6**p) for p in range(1,15))\n",
    "    N = list(int(2*1.6**p) for p in range(1,15))\n",
    "    print len(H)*len(W)*len(C)*len(N)*2*5\n",
    "    for h in H:\n",
    "        for w in W:\n",
    "            for c in C:\n",
    "                for n in N:\n",
    "                    for f in range(2,min(11,min(h,w)),2):\n",
    "                        for s in range(1,3):\n",
    "                            list_random.append([h,w,c,n,f,s]) \n",
    "    return list_random         "
   ]
  },
  {
   "cell_type": "code",
   "execution_count": 40,
   "metadata": {},
   "outputs": [
    {
     "data": {
      "text/plain": [
       "[3, 5, 8, 13, 20, 33, 53, 85, 137, 219, 351, 562, 900, 1441]"
      ]
     },
     "execution_count": 40,
     "metadata": {},
     "output_type": "execute_result"
    }
   ],
   "source": [
    "C = list(int(2*1.6**p) for p in range(1,15))\n",
    "C"
   ]
  },
  {
   "cell_type": "code",
   "execution_count": 29,
   "metadata": {},
   "outputs": [
    {
     "name": "stdout",
     "output_type": "stream",
     "text": [
      "282240\n"
     ]
    }
   ],
   "source": [
    "train_data = create_traindata2()"
   ]
  },
  {
   "cell_type": "code",
   "execution_count": 30,
   "metadata": {},
   "outputs": [
    {
     "data": {
      "text/plain": [
       "206584"
      ]
     },
     "execution_count": 30,
     "metadata": {},
     "output_type": "execute_result"
    }
   ],
   "source": [
    "len(train_data)"
   ]
  },
  {
   "cell_type": "code",
   "execution_count": 31,
   "metadata": {},
   "outputs": [],
   "source": [
    "train_data_arr = np.asarray(train_data,dtype=np.int32)"
   ]
  },
  {
   "cell_type": "code",
   "execution_count": 32,
   "metadata": {},
   "outputs": [
    {
     "data": {
      "text/plain": [
       "(1000, 6)"
      ]
     },
     "execution_count": 32,
     "metadata": {},
     "output_type": "execute_result"
    }
   ],
   "source": [
    "train_data_arr[0:1000].shape"
   ]
  },
  {
   "cell_type": "code",
   "execution_count": 33,
   "metadata": {},
   "outputs": [
    {
     "data": {
      "text/plain": [
       "'\\nnp.savetxt(\"train_input_1.csv\",train_data_arr[0:5000],delimiter=\\',\\',fmt=\\'%i\\')\\nnp.savetxt(\"train_input_2.csv\",train_data_arr[5000:10000],delimiter=\\',\\',fmt=\\'%i\\')\\nnp.savetxt(\"train_input_3.csv\",train_data_arr[10000:15000],delimiter=\\',\\',fmt=\\'%i\\')\\nnp.savetxt(\"train_input_4.csv\",train_data_arr[15000:20000],delimiter=\\',\\',fmt=\\'%i\\')\\n'"
      ]
     },
     "execution_count": 33,
     "metadata": {},
     "output_type": "execute_result"
    }
   ],
   "source": [
    "\"\"\"\n",
    "np.savetxt(\"train_input_1.csv\",train_data_arr[0:5000],delimiter=',',fmt='%i')\n",
    "np.savetxt(\"train_input_2.csv\",train_data_arr[5000:10000],delimiter=',',fmt='%i')\n",
    "np.savetxt(\"train_input_3.csv\",train_data_arr[10000:15000],delimiter=',',fmt='%i')\n",
    "np.savetxt(\"train_input_4.csv\",train_data_arr[15000:20000],delimiter=',',fmt='%i')\n",
    "\"\"\""
   ]
  },
  {
   "cell_type": "code",
   "execution_count": 34,
   "metadata": {},
   "outputs": [],
   "source": [
    "np.random.shuffle(train_data_arr)"
   ]
  },
  {
   "cell_type": "code",
   "execution_count": 35,
   "metadata": {},
   "outputs": [
    {
     "name": "stdout",
     "output_type": "stream",
     "text": [
      "[[ 562   20  900   85    4    2]\n",
      " [  33   53    8    3    2    1]\n",
      " [  33   53   13   20   10    1]\n",
      " ...\n",
      " [  33   20   53  219    4    2]\n",
      " [  85   85 1441   20    6    2]\n",
      " [  20  137   33    3    4    1]]\n"
     ]
    }
   ],
   "source": [
    "print train_data_arr"
   ]
  },
  {
   "cell_type": "code",
   "execution_count": 36,
   "metadata": {},
   "outputs": [],
   "source": [
    "sub_arr = np.split(train_data_arr,4)"
   ]
  },
  {
   "cell_type": "code",
   "execution_count": 37,
   "metadata": {},
   "outputs": [
    {
     "data": {
      "text/plain": [
       "[array([[562,  20, 900,  85,   4,   2],\n",
       "        [ 33,  53,   8,   3,   2,   1],\n",
       "        [ 33,  53,  13,  20,  10,   1],\n",
       "        ...,\n",
       "        [ 53,  13, 137,  53,   4,   1],\n",
       "        [  5,  53, 219, 900,   4,   1],\n",
       "        [ 33, 562, 900,  20,   2,   2]], dtype=int32),\n",
       " array([[  5,  13, 562, 219,   4,   2],\n",
       "        [  5,   8,  85,  53,   2,   2],\n",
       "        [ 53, 562, 351, 137,   8,   1],\n",
       "        ...,\n",
       "        [ 13, 137,   8,  13,   8,   2],\n",
       "        [ 20,  33,   5,  20,  10,   1],\n",
       "        [351, 562,   5,   3,   8,   1]], dtype=int32),\n",
       " array([[  8, 219,  33,   3,   6,   1],\n",
       "        [562, 351,  53, 219,   8,   1],\n",
       "        [137,  20,   3,  20,   4,   2],\n",
       "        ...,\n",
       "        [351,   5,  53, 219,   4,   2],\n",
       "        [ 33,  85, 219,   5,   2,   1],\n",
       "        [219, 562, 137, 219,   8,   2]], dtype=int32),\n",
       " array([[  53,  562,    8,   53,    2,    1],\n",
       "        [  85,   13,   13,  219,    4,    1],\n",
       "        [  33,   53,    3,    5,    8,    1],\n",
       "        ...,\n",
       "        [  33,   20,   53,  219,    4,    2],\n",
       "        [  85,   85, 1441,   20,    6,    2],\n",
       "        [  20,  137,   33,    3,    4,    1]], dtype=int32)]"
      ]
     },
     "execution_count": 37,
     "metadata": {},
     "output_type": "execute_result"
    }
   ],
   "source": [
    "sub_arr"
   ]
  },
  {
   "cell_type": "code",
   "execution_count": 38,
   "metadata": {},
   "outputs": [],
   "source": [
    "np.save(\"chunk1\",sub_arr[0])\n",
    "np.save(\"chunk2\",sub_arr[1])\n",
    "np.save(\"chunk3\",sub_arr[2])\n",
    "np.save(\"chunk4\",sub_arr[3])"
   ]
  },
  {
   "cell_type": "code",
   "execution_count": 39,
   "metadata": {},
   "outputs": [
    {
     "name": "stdout",
     "output_type": "stream",
     "text": [
      "[[562  20 900  85   4   2]\n",
      " [ 33  53   8   3   2   1]\n",
      " [ 33  53  13  20  10   1]\n",
      " ...\n",
      " [ 53  13 137  53   4   1]\n",
      " [  5  53 219 900   4   1]\n",
      " [ 33 562 900  20   2   2]]\n"
     ]
    }
   ],
   "source": [
    "print sub_arr[0]"
   ]
  },
  {
   "cell_type": "code",
   "execution_count": 21,
   "metadata": {},
   "outputs": [
    {
     "data": {
      "text/plain": [
       "(33614, 6)"
      ]
     },
     "execution_count": 21,
     "metadata": {},
     "output_type": "execute_result"
    }
   ],
   "source": [
    "sub_arr[0].shape"
   ]
  },
  {
   "cell_type": "code",
   "execution_count": 22,
   "metadata": {},
   "outputs": [
    {
     "ename": "NameError",
     "evalue": "name 'a' is not defined",
     "output_type": "error",
     "traceback": [
      "\u001b[0;31m---------------------------------------------------------------------------\u001b[0m",
      "\u001b[0;31mNameError\u001b[0m                                 Traceback (most recent call last)",
      "\u001b[0;32m<ipython-input-22-3f786850e387>\u001b[0m in \u001b[0;36m<module>\u001b[0;34m()\u001b[0m\n\u001b[0;32m----> 1\u001b[0;31m \u001b[0ma\u001b[0m\u001b[0;34m\u001b[0m\u001b[0m\n\u001b[0m",
      "\u001b[0;31mNameError\u001b[0m: name 'a' is not defined"
     ]
    }
   ],
   "source": [
    "a"
   ]
  },
  {
   "cell_type": "code",
   "execution_count": 23,
   "metadata": {},
   "outputs": [
    {
     "ename": "NameError",
     "evalue": "name 'a' is not defined",
     "output_type": "error",
     "traceback": [
      "\u001b[0;31m---------------------------------------------------------------------------\u001b[0m",
      "\u001b[0;31mNameError\u001b[0m                                 Traceback (most recent call last)",
      "\u001b[0;32m<ipython-input-23-c675de253c04>\u001b[0m in \u001b[0;36m<module>\u001b[0;34m()\u001b[0m\n\u001b[0;32m----> 1\u001b[0;31m \u001b[0ma\u001b[0m\u001b[0;34m[\u001b[0m\u001b[0mnp\u001b[0m\u001b[0;34m.\u001b[0m\u001b[0margsort\u001b[0m\u001b[0;34m(\u001b[0m\u001b[0ma\u001b[0m\u001b[0;34m)\u001b[0m\u001b[0;34m]\u001b[0m\u001b[0;34m\u001b[0m\u001b[0m\n\u001b[0m",
      "\u001b[0;31mNameError\u001b[0m: name 'a' is not defined"
     ]
    }
   ],
   "source": [
    "a[np.argsort(a)]"
   ]
  },
  {
   "cell_type": "code",
   "execution_count": null,
   "metadata": {},
   "outputs": [],
   "source": []
  },
  {
   "cell_type": "code",
   "execution_count": null,
   "metadata": {},
   "outputs": [],
   "source": []
  }
 ],
 "metadata": {
  "kernelspec": {
   "display_name": "Python 2",
   "language": "python",
   "name": "python2"
  },
  "language_info": {
   "codemirror_mode": {
    "name": "ipython",
    "version": 2
   },
   "file_extension": ".py",
   "mimetype": "text/x-python",
   "name": "python",
   "nbconvert_exporter": "python",
   "pygments_lexer": "ipython2",
   "version": "2.7.14"
  }
 },
 "nbformat": 4,
 "nbformat_minor": 2
}
