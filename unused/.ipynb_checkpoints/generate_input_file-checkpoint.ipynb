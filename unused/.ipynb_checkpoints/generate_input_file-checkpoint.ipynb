{
 "cells": [
  {
   "cell_type": "code",
   "execution_count": 1,
   "metadata": {},
   "outputs": [],
   "source": [
    "import numpy as np\n",
    "import pandas as pd\n",
    "from random import randint,seed\n",
    "from tqdm import tqdm\n",
    "from sklearn import linear_model\n",
    "from sklearn.linear_model import LinearRegression\n",
    "from sklearn.model_selection import train_test_split\n",
    "from sklearn.svm import SVR\n",
    "from sklearn.neural_network import MLPRegressor\n",
    "from sklearn.neighbors import KNeighborsRegressor\n",
    "import matplotlib.pyplot as plt\n",
    "from sklearn.preprocessing import StandardScaler,MinMaxScaler "
   ]
  },
  {
   "cell_type": "code",
   "execution_count": 17,
   "metadata": {},
   "outputs": [],
   "source": [
    "def create_traindata():\n",
    "    list_random=[]\n",
    "    counter=0\n",
    "    while counter < 20000:\n",
    "        while(True):\n",
    "            #seed(counter+1)\n",
    "            h = randint(1,448)\n",
    "            w = randint(1,448)\n",
    "            c = randint(1,1280)\n",
    "            n = randint(1,1024)\n",
    "            f = randint(1,min(11,min(h,w)))\n",
    "            s = randint(1,4)\n",
    "            if not ([h,w,c,n,f,s] in list_random):\n",
    "                break\n",
    "        list_random.append([h,w,c,n,f,s])\n",
    "        counter+=1\n",
    "    return list_random         \n",
    "def create_traindata2():\n",
    "    list_random=[]\n",
    "    counter=0\n",
    "    \n",
    "    H = list(int(2*1.6**p) for p in range(1,11))\n",
    "    W = list(int(2*1.6**p) for p in range(1,11))\n",
    "    C = list(int(2*1.6**p) for p in range(1,12))\n",
    "    N = list(int(2*1.6**p) for p in range(1,11))\n",
    "    print len(H)*len(W)*len(C)*len(N)*2*5\n",
    "    for h in H:\n",
    "        for w in W:\n",
    "            for c in C:\n",
    "                for n in N:\n",
    "                    for f in range(2,min(11,min(h,w)),2):\n",
    "                        for s in range(1,3):\n",
    "                            list_random.append([h,w,c,n,f,s]) \n",
    "    return list_random         "
   ]
  },
  {
   "cell_type": "code",
   "execution_count": 18,
   "metadata": {},
   "outputs": [
    {
     "data": {
      "text/plain": [
       "[3, 5, 8, 13, 20, 33, 53, 85, 137, 219, 351, 562, 900, 1441, 2305, 3689]"
      ]
     },
     "execution_count": 18,
     "metadata": {},
     "output_type": "execute_result"
    }
   ],
   "source": [
    "H = list(int(2*1.6**p) for p in range(1,17))\n",
    "H"
   ]
  },
  {
   "cell_type": "code",
   "execution_count": 19,
   "metadata": {},
   "outputs": [
    {
     "name": "stdout",
     "output_type": "stream",
     "text": [
      "110000\n"
     ]
    }
   ],
   "source": [
    "train_data = create_traindata2()"
   ]
  },
  {
   "cell_type": "code",
   "execution_count": 20,
   "metadata": {},
   "outputs": [
    {
     "data": {
      "text/plain": [
       "247280"
      ]
     },
     "execution_count": 20,
     "metadata": {},
     "output_type": "execute_result"
    }
   ],
   "source": [
    "len(train_data)"
   ]
  },
  {
   "cell_type": "code",
   "execution_count": 21,
   "metadata": {},
   "outputs": [],
   "source": [
    "train_data_arr = np.asarray(train_data,dtype=np.int32)"
   ]
  },
  {
   "cell_type": "code",
   "execution_count": 22,
   "metadata": {},
   "outputs": [
    {
     "data": {
      "text/plain": [
       "(1000, 6)"
      ]
     },
     "execution_count": 22,
     "metadata": {},
     "output_type": "execute_result"
    }
   ],
   "source": [
    "train_data_arr[0:1000].shape"
   ]
  },
  {
   "cell_type": "code",
   "execution_count": 23,
   "metadata": {},
   "outputs": [
    {
     "data": {
      "text/plain": [
       "'\\nnp.savetxt(\"train_input_1.csv\",train_data_arr[0:5000],delimiter=\\',\\',fmt=\\'%i\\')\\nnp.savetxt(\"train_input_2.csv\",train_data_arr[5000:10000],delimiter=\\',\\',fmt=\\'%i\\')\\nnp.savetxt(\"train_input_3.csv\",train_data_arr[10000:15000],delimiter=\\',\\',fmt=\\'%i\\')\\nnp.savetxt(\"train_input_4.csv\",train_data_arr[15000:20000],delimiter=\\',\\',fmt=\\'%i\\')\\n'"
      ]
     },
     "execution_count": 23,
     "metadata": {},
     "output_type": "execute_result"
    }
   ],
   "source": [
    "\"\"\"\n",
    "np.savetxt(\"train_input_1.csv\",train_data_arr[0:5000],delimiter=',',fmt='%i')\n",
    "np.savetxt(\"train_input_2.csv\",train_data_arr[5000:10000],delimiter=',',fmt='%i')\n",
    "np.savetxt(\"train_input_3.csv\",train_data_arr[10000:15000],delimiter=',',fmt='%i')\n",
    "np.savetxt(\"train_input_4.csv\",train_data_arr[15000:20000],delimiter=',',fmt='%i')\n",
    "\"\"\""
   ]
  },
  {
   "cell_type": "code",
   "execution_count": 24,
   "metadata": {},
   "outputs": [],
   "source": [
    "np.random.shuffle(train_data_arr)"
   ]
  },
  {
   "cell_type": "code",
   "execution_count": 25,
   "metadata": {},
   "outputs": [
    {
     "name": "stdout",
     "output_type": "stream",
     "text": [
      "[[137  13  85  13  10   1]\n",
      " [ 53 137   3   3  28   1]\n",
      " [219 137 219  13 104   2]\n",
      " ...\n",
      " [137  33 351  33  12   1]\n",
      " [137 219  85 137  64   2]\n",
      " [137 137  53   8  84   1]]\n"
     ]
    }
   ],
   "source": [
    "print train_data_arr"
   ]
  },
  {
   "cell_type": "code",
   "execution_count": 26,
   "metadata": {},
   "outputs": [],
   "source": [
    "sub_arr = np.split(train_data_arr,4)"
   ]
  },
  {
   "cell_type": "code",
   "execution_count": 27,
   "metadata": {},
   "outputs": [
    {
     "data": {
      "text/plain": [
       "[array([[137,  13,  85,  13,  10,   1],\n",
       "        [ 53, 137,   3,   3,  28,   1],\n",
       "        [219, 137, 219,  13, 104,   2],\n",
       "        ...,\n",
       "        [ 53,  85,   3,  20,  12,   2],\n",
       "        [ 13, 137,   3,  13,   6,   1],\n",
       "        [ 53,  85,  20,  33,  30,   1]], dtype=int32),\n",
       " array([[137, 219,  53,  85, 128,   1],\n",
       "        [ 33,  53,  13,  53,  32,   2],\n",
       "        [137, 137, 219, 137, 118,   2],\n",
       "        ...,\n",
       "        [137, 137,  20,  53,  40,   2],\n",
       "        [ 53,  53, 351,  33,  34,   2],\n",
       "        [137, 219,  13,  20,   8,   1]], dtype=int32),\n",
       " array([[137,  33,   3,  13,  14,   1],\n",
       "        [ 13,  85, 219,  85,   4,   2],\n",
       "        [219,  20,  85,   8,  16,   2],\n",
       "        ...,\n",
       "        [219, 219,  85,  85, 104,   2],\n",
       "        [ 85,  20, 137,  13,   4,   1],\n",
       "        [137, 137,   3,  20,  42,   1]], dtype=int32),\n",
       " array([[ 85, 219, 219, 137,  42,   2],\n",
       "        [ 85, 137,  13,  33,   8,   1],\n",
       "        [ 20, 219,  85,  20,  12,   1],\n",
       "        ...,\n",
       "        [137,  33, 351,  33,  12,   1],\n",
       "        [137, 219,  85, 137,  64,   2],\n",
       "        [137, 137,  53,   8,  84,   1]], dtype=int32)]"
      ]
     },
     "execution_count": 27,
     "metadata": {},
     "output_type": "execute_result"
    }
   ],
   "source": [
    "sub_arr"
   ]
  },
  {
   "cell_type": "code",
   "execution_count": 33,
   "metadata": {},
   "outputs": [],
   "source": [
    "np.save(\"chunk1\",sub_arr[0])\n",
    "np.save(\"chunk2\",sub_arr[1])\n",
    "np.save(\"chunk3\",sub_arr[2])\n",
    "np.save(\"chunk4\",sub_arr[3])"
   ]
  },
  {
   "cell_type": "code",
   "execution_count": 29,
   "metadata": {},
   "outputs": [
    {
     "name": "stdout",
     "output_type": "stream",
     "text": [
      "[[137  13  85  13  10   1]\n",
      " [ 53 137   3   3  28   1]\n",
      " [219 137 219  13 104   2]\n",
      " ...\n",
      " [ 53  85   3  20  12   2]\n",
      " [ 13 137   3  13   6   1]\n",
      " [ 53  85  20  33  30   1]]\n"
     ]
    }
   ],
   "source": [
    "print sub_arr[0]"
   ]
  },
  {
   "cell_type": "code",
   "execution_count": 34,
   "metadata": {},
   "outputs": [
    {
     "data": {
      "text/plain": [
       "(61820, 6)"
      ]
     },
     "execution_count": 34,
     "metadata": {},
     "output_type": "execute_result"
    }
   ],
   "source": [
    "sub_arr[0].shape"
   ]
  },
  {
   "cell_type": "code",
   "execution_count": 31,
   "metadata": {},
   "outputs": [
    {
     "data": {
      "text/plain": [
       "array([[137,  13,  85,  13,  10,   1],\n",
       "       [ 53, 137,   3,   3,  28,   1],\n",
       "       [219, 137, 219,  13, 104,   2],\n",
       "       [ 33, 137,   5,  13,  24,   2],\n",
       "       [ 33,  33, 219,  33,  20,   1],\n",
       "       [ 85,  85,  53,   3,  64,   1],\n",
       "       [219, 219,  33,  20, 148,   2],\n",
       "       [ 53,  53,  85,  33,  46,   2],\n",
       "       [219, 219, 351,  53,  70,   1],\n",
       "       [ 53,  85, 351,   5,  26,   1]], dtype=int32)"
      ]
     },
     "execution_count": 31,
     "metadata": {},
     "output_type": "execute_result"
    }
   ],
   "source": [
    "a"
   ]
  },
  {
   "cell_type": "code",
   "execution_count": 32,
   "metadata": {},
   "outputs": [
    {
     "data": {
      "text/plain": [
       "array([[[ 85,  85,  53,   3,  64,   1],\n",
       "        [ 33,  33, 219,  33,  20,   1],\n",
       "        [ 53, 137,   3,   3,  28,   1],\n",
       "        [ 33, 137,   5,  13,  24,   2],\n",
       "        [219, 137, 219,  13, 104,   2],\n",
       "        [137,  13,  85,  13,  10,   1]],\n",
       "\n",
       "       [[ 85,  85,  53,   3,  64,   1],\n",
       "        [219, 137, 219,  13, 104,   2],\n",
       "        [ 33, 137,   5,  13,  24,   2],\n",
       "        [ 33,  33, 219,  33,  20,   1],\n",
       "        [137,  13,  85,  13,  10,   1],\n",
       "        [ 53, 137,   3,   3,  28,   1]],\n",
       "\n",
       "       [[ 85,  85,  53,   3,  64,   1],\n",
       "        [ 33, 137,   5,  13,  24,   2],\n",
       "        [ 33,  33, 219,  33,  20,   1],\n",
       "        [ 53, 137,   3,   3,  28,   1],\n",
       "        [137,  13,  85,  13,  10,   1],\n",
       "        [219, 137, 219,  13, 104,   2]],\n",
       "\n",
       "       [[ 85,  85,  53,   3,  64,   1],\n",
       "        [219, 137, 219,  13, 104,   2],\n",
       "        [ 33, 137,   5,  13,  24,   2],\n",
       "        [ 33,  33, 219,  33,  20,   1],\n",
       "        [137,  13,  85,  13,  10,   1],\n",
       "        [ 53, 137,   3,   3,  28,   1]],\n",
       "\n",
       "       [[ 85,  85,  53,   3,  64,   1],\n",
       "        [ 33,  33, 219,  33,  20,   1],\n",
       "        [137,  13,  85,  13,  10,   1],\n",
       "        [ 53, 137,   3,   3,  28,   1],\n",
       "        [ 33, 137,   5,  13,  24,   2],\n",
       "        [219, 137, 219,  13, 104,   2]],\n",
       "\n",
       "       [[ 85,  85,  53,   3,  64,   1],\n",
       "        [ 33, 137,   5,  13,  24,   2],\n",
       "        [219, 137, 219,  13, 104,   2],\n",
       "        [ 33,  33, 219,  33,  20,   1],\n",
       "        [137,  13,  85,  13,  10,   1],\n",
       "        [ 53, 137,   3,   3,  28,   1]],\n",
       "\n",
       "       [[ 85,  85,  53,   3,  64,   1],\n",
       "        [ 33, 137,   5,  13,  24,   2],\n",
       "        [219, 137, 219,  13, 104,   2],\n",
       "        [ 33,  33, 219,  33,  20,   1],\n",
       "        [137,  13,  85,  13,  10,   1],\n",
       "        [ 53, 137,   3,   3,  28,   1]],\n",
       "\n",
       "       [[ 85,  85,  53,   3,  64,   1],\n",
       "        [ 33, 137,   5,  13,  24,   2],\n",
       "        [ 33,  33, 219,  33,  20,   1],\n",
       "        [137,  13,  85,  13,  10,   1],\n",
       "        [ 53, 137,   3,   3,  28,   1],\n",
       "        [219, 137, 219,  13, 104,   2]],\n",
       "\n",
       "       [[ 85,  85,  53,   3,  64,   1],\n",
       "        [ 33, 137,   5,  13,  24,   2],\n",
       "        [ 33,  33, 219,  33,  20,   1],\n",
       "        [137,  13,  85,  13,  10,   1],\n",
       "        [ 53, 137,   3,   3,  28,   1],\n",
       "        [219, 137, 219,  13, 104,   2]],\n",
       "\n",
       "       [[ 85,  85,  53,   3,  64,   1],\n",
       "        [ 33, 137,   5,  13,  24,   2],\n",
       "        [ 33,  33, 219,  33,  20,   1],\n",
       "        [137,  13,  85,  13,  10,   1],\n",
       "        [ 53, 137,   3,   3,  28,   1],\n",
       "        [219, 137, 219,  13, 104,   2]]], dtype=int32)"
      ]
     },
     "execution_count": 32,
     "metadata": {},
     "output_type": "execute_result"
    }
   ],
   "source": [
    "a[np.argsort(a)]"
   ]
  },
  {
   "cell_type": "code",
   "execution_count": null,
   "metadata": {},
   "outputs": [],
   "source": []
  },
  {
   "cell_type": "code",
   "execution_count": null,
   "metadata": {},
   "outputs": [],
   "source": []
  }
 ],
 "metadata": {
  "kernelspec": {
   "display_name": "Python 2",
   "language": "python",
   "name": "python2"
  },
  "language_info": {
   "codemirror_mode": {
    "name": "ipython",
    "version": 2
   },
   "file_extension": ".py",
   "mimetype": "text/x-python",
   "name": "python",
   "nbconvert_exporter": "python",
   "pygments_lexer": "ipython2",
   "version": "2.7.12"
  }
 },
 "nbformat": 4,
 "nbformat_minor": 2
}
