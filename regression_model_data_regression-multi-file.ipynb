{
 "cells": [
  {
   "cell_type": "code",
   "execution_count": 1,
   "metadata": {},
   "outputs": [],
   "source": [
    "import os\n",
    "import numpy as np\n",
    "import pandas as pd\n",
    "from random import randint,seed\n",
    "from tqdm import tqdm\n",
    "from sklearn import linear_model\n",
    "from sklearn.linear_model import LinearRegression\n",
    "from sklearn.model_selection import train_test_split\n",
    "from sklearn.svm import SVR\n",
    "from sklearn.neural_network import MLPRegressor\n",
    "from sklearn.neighbors import KNeighborsRegressor\n",
    "import matplotlib.pyplot as plt\n",
    "from sklearn.preprocessing import StandardScaler,MinMaxScaler \n",
    "from sklearn.model_selection import cross_val_score\n",
    "from sklearn.model_selection import ShuffleSplit"
   ]
  },
  {
   "cell_type": "code",
   "execution_count": 2,
   "metadata": {},
   "outputs": [
    {
     "name": "stdout",
     "output_type": "stream",
     "text": [
      "(475000, 9)\n",
      "(220400, 9)\n",
      "(159400, 9)\n",
      "(399600, 9)\n"
     ]
    }
   ],
   "source": [
    "df1 = pd.read_csv('data_conv/conv1.csv')\n",
    "df1['freq'] = 1200\n",
    "print (df1.shape)\n",
    "df2 = pd.read_csv('data_conv/conv2.csv')\n",
    "df2['freq'] = 800\n",
    "print (df2.shape)\n",
    "df3 = pd.read_csv('data_conv/conv3.csv')\n",
    "df3['freq'] = 600\n",
    "print (df3.shape)\n",
    "df4 = pd.read_csv('data_conv/conv4.csv')\n",
    "df4['freq'] = 1000\n",
    "print (df4.shape)"
   ]
  },
  {
   "cell_type": "code",
   "execution_count": 3,
   "metadata": {},
   "outputs": [],
   "source": [
    "df = pd.concat([df1, df2,df3,df4], ignore_index=True)"
   ]
  },
  {
   "cell_type": "code",
   "execution_count": 4,
   "metadata": {},
   "outputs": [
    {
     "data": {
      "text/html": [
       "<div>\n",
       "<style scoped>\n",
       "    .dataframe tbody tr th:only-of-type {\n",
       "        vertical-align: middle;\n",
       "    }\n",
       "\n",
       "    .dataframe tbody tr th {\n",
       "        vertical-align: top;\n",
       "    }\n",
       "\n",
       "    .dataframe thead th {\n",
       "        text-align: right;\n",
       "    }\n",
       "</style>\n",
       "<table border=\"1\" class=\"dataframe\">\n",
       "  <thead>\n",
       "    <tr style=\"text-align: right;\">\n",
       "      <th></th>\n",
       "      <th>Unnamed: 0</th>\n",
       "      <th>input_size_h</th>\n",
       "      <th>input_size_w</th>\n",
       "      <th>channels</th>\n",
       "      <th>filter_count</th>\n",
       "      <th>filter_size</th>\n",
       "      <th>stride</th>\n",
       "      <th>runtime</th>\n",
       "      <th>freq</th>\n",
       "    </tr>\n",
       "  </thead>\n",
       "  <tbody>\n",
       "    <tr>\n",
       "      <th>0</th>\n",
       "      <td>0</td>\n",
       "      <td>562</td>\n",
       "      <td>20</td>\n",
       "      <td>900</td>\n",
       "      <td>85</td>\n",
       "      <td>4</td>\n",
       "      <td>2</td>\n",
       "      <td>3.582578</td>\n",
       "      <td>1200</td>\n",
       "    </tr>\n",
       "    <tr>\n",
       "      <th>1</th>\n",
       "      <td>1</td>\n",
       "      <td>33</td>\n",
       "      <td>53</td>\n",
       "      <td>8</td>\n",
       "      <td>3</td>\n",
       "      <td>2</td>\n",
       "      <td>1</td>\n",
       "      <td>0.002315</td>\n",
       "      <td>1200</td>\n",
       "    </tr>\n",
       "    <tr>\n",
       "      <th>2</th>\n",
       "      <td>2</td>\n",
       "      <td>33</td>\n",
       "      <td>53</td>\n",
       "      <td>13</td>\n",
       "      <td>20</td>\n",
       "      <td>10</td>\n",
       "      <td>1</td>\n",
       "      <td>0.075039</td>\n",
       "      <td>1200</td>\n",
       "    </tr>\n",
       "    <tr>\n",
       "      <th>3</th>\n",
       "      <td>3</td>\n",
       "      <td>13</td>\n",
       "      <td>33</td>\n",
       "      <td>5</td>\n",
       "      <td>85</td>\n",
       "      <td>8</td>\n",
       "      <td>1</td>\n",
       "      <td>0.008288</td>\n",
       "      <td>1200</td>\n",
       "    </tr>\n",
       "    <tr>\n",
       "      <th>4</th>\n",
       "      <td>4</td>\n",
       "      <td>13</td>\n",
       "      <td>53</td>\n",
       "      <td>5</td>\n",
       "      <td>85</td>\n",
       "      <td>10</td>\n",
       "      <td>1</td>\n",
       "      <td>0.014262</td>\n",
       "      <td>1200</td>\n",
       "    </tr>\n",
       "  </tbody>\n",
       "</table>\n",
       "</div>"
      ],
      "text/plain": [
       "   Unnamed: 0  input_size_h  input_size_w  channels  filter_count  \\\n",
       "0           0           562            20       900            85   \n",
       "1           1            33            53         8             3   \n",
       "2           2            33            53        13            20   \n",
       "3           3            13            33         5            85   \n",
       "4           4            13            53         5            85   \n",
       "\n",
       "   filter_size  stride   runtime  freq  \n",
       "0            4       2  3.582578  1200  \n",
       "1            2       1  0.002315  1200  \n",
       "2           10       1  0.075039  1200  \n",
       "3            8       1  0.008288  1200  \n",
       "4           10       1  0.014262  1200  "
      ]
     },
     "execution_count": 4,
     "metadata": {},
     "output_type": "execute_result"
    }
   ],
   "source": [
    "df.head()"
   ]
  },
  {
   "cell_type": "code",
   "execution_count": 5,
   "metadata": {},
   "outputs": [
    {
     "data": {
      "text/html": [
       "<div>\n",
       "<style scoped>\n",
       "    .dataframe tbody tr th:only-of-type {\n",
       "        vertical-align: middle;\n",
       "    }\n",
       "\n",
       "    .dataframe tbody tr th {\n",
       "        vertical-align: top;\n",
       "    }\n",
       "\n",
       "    .dataframe thead th {\n",
       "        text-align: right;\n",
       "    }\n",
       "</style>\n",
       "<table border=\"1\" class=\"dataframe\">\n",
       "  <thead>\n",
       "    <tr style=\"text-align: right;\">\n",
       "      <th></th>\n",
       "      <th>input_size_h</th>\n",
       "      <th>input_size_w</th>\n",
       "      <th>channels</th>\n",
       "      <th>filter_count</th>\n",
       "      <th>filter_size</th>\n",
       "      <th>stride</th>\n",
       "      <th>runtime</th>\n",
       "      <th>freq</th>\n",
       "    </tr>\n",
       "  </thead>\n",
       "  <tbody>\n",
       "    <tr>\n",
       "      <th>0</th>\n",
       "      <td>562</td>\n",
       "      <td>20</td>\n",
       "      <td>900</td>\n",
       "      <td>85</td>\n",
       "      <td>4</td>\n",
       "      <td>2</td>\n",
       "      <td>3.582578</td>\n",
       "      <td>1200</td>\n",
       "    </tr>\n",
       "    <tr>\n",
       "      <th>1</th>\n",
       "      <td>33</td>\n",
       "      <td>53</td>\n",
       "      <td>8</td>\n",
       "      <td>3</td>\n",
       "      <td>2</td>\n",
       "      <td>1</td>\n",
       "      <td>0.002315</td>\n",
       "      <td>1200</td>\n",
       "    </tr>\n",
       "    <tr>\n",
       "      <th>2</th>\n",
       "      <td>33</td>\n",
       "      <td>53</td>\n",
       "      <td>13</td>\n",
       "      <td>20</td>\n",
       "      <td>10</td>\n",
       "      <td>1</td>\n",
       "      <td>0.075039</td>\n",
       "      <td>1200</td>\n",
       "    </tr>\n",
       "    <tr>\n",
       "      <th>3</th>\n",
       "      <td>13</td>\n",
       "      <td>33</td>\n",
       "      <td>5</td>\n",
       "      <td>85</td>\n",
       "      <td>8</td>\n",
       "      <td>1</td>\n",
       "      <td>0.008288</td>\n",
       "      <td>1200</td>\n",
       "    </tr>\n",
       "    <tr>\n",
       "      <th>4</th>\n",
       "      <td>13</td>\n",
       "      <td>53</td>\n",
       "      <td>5</td>\n",
       "      <td>85</td>\n",
       "      <td>10</td>\n",
       "      <td>1</td>\n",
       "      <td>0.014262</td>\n",
       "      <td>1200</td>\n",
       "    </tr>\n",
       "  </tbody>\n",
       "</table>\n",
       "</div>"
      ],
      "text/plain": [
       "   input_size_h  input_size_w  channels  filter_count  filter_size  stride  \\\n",
       "0           562            20       900            85            4       2   \n",
       "1            33            53         8             3            2       1   \n",
       "2            33            53        13            20           10       1   \n",
       "3            13            33         5            85            8       1   \n",
       "4            13            53         5            85           10       1   \n",
       "\n",
       "    runtime  freq  \n",
       "0  3.582578  1200  \n",
       "1  0.002315  1200  \n",
       "2  0.075039  1200  \n",
       "3  0.008288  1200  \n",
       "4  0.014262  1200  "
      ]
     },
     "execution_count": 5,
     "metadata": {},
     "output_type": "execute_result"
    }
   ],
   "source": [
    "df = df.drop(columns=['Unnamed: 0'])\n",
    "df.head()"
   ]
  },
  {
   "cell_type": "code",
   "execution_count": 6,
   "metadata": {},
   "outputs": [
    {
     "data": {
      "text/html": [
       "<div>\n",
       "<style scoped>\n",
       "    .dataframe tbody tr th:only-of-type {\n",
       "        vertical-align: middle;\n",
       "    }\n",
       "\n",
       "    .dataframe tbody tr th {\n",
       "        vertical-align: top;\n",
       "    }\n",
       "\n",
       "    .dataframe thead th {\n",
       "        text-align: right;\n",
       "    }\n",
       "</style>\n",
       "<table border=\"1\" class=\"dataframe\">\n",
       "  <thead>\n",
       "    <tr style=\"text-align: right;\">\n",
       "      <th></th>\n",
       "      <th>input_size_h</th>\n",
       "      <th>input_size_w</th>\n",
       "      <th>channels</th>\n",
       "      <th>filter_count</th>\n",
       "      <th>filter_size</th>\n",
       "      <th>stride</th>\n",
       "      <th>runtime</th>\n",
       "      <th>freq</th>\n",
       "    </tr>\n",
       "  </thead>\n",
       "  <tbody>\n",
       "    <tr>\n",
       "      <th>0</th>\n",
       "      <td>562</td>\n",
       "      <td>20</td>\n",
       "      <td>900</td>\n",
       "      <td>85</td>\n",
       "      <td>4</td>\n",
       "      <td>2</td>\n",
       "      <td>3.582578</td>\n",
       "      <td>1200</td>\n",
       "    </tr>\n",
       "    <tr>\n",
       "      <th>1</th>\n",
       "      <td>33</td>\n",
       "      <td>53</td>\n",
       "      <td>8</td>\n",
       "      <td>3</td>\n",
       "      <td>2</td>\n",
       "      <td>1</td>\n",
       "      <td>0.002315</td>\n",
       "      <td>1200</td>\n",
       "    </tr>\n",
       "    <tr>\n",
       "      <th>2</th>\n",
       "      <td>33</td>\n",
       "      <td>53</td>\n",
       "      <td>13</td>\n",
       "      <td>20</td>\n",
       "      <td>10</td>\n",
       "      <td>1</td>\n",
       "      <td>0.075039</td>\n",
       "      <td>1200</td>\n",
       "    </tr>\n",
       "    <tr>\n",
       "      <th>3</th>\n",
       "      <td>13</td>\n",
       "      <td>33</td>\n",
       "      <td>5</td>\n",
       "      <td>85</td>\n",
       "      <td>8</td>\n",
       "      <td>1</td>\n",
       "      <td>0.008288</td>\n",
       "      <td>1200</td>\n",
       "    </tr>\n",
       "    <tr>\n",
       "      <th>4</th>\n",
       "      <td>13</td>\n",
       "      <td>53</td>\n",
       "      <td>5</td>\n",
       "      <td>85</td>\n",
       "      <td>10</td>\n",
       "      <td>1</td>\n",
       "      <td>0.014262</td>\n",
       "      <td>1200</td>\n",
       "    </tr>\n",
       "  </tbody>\n",
       "</table>\n",
       "</div>"
      ],
      "text/plain": [
       "   input_size_h  input_size_w  channels  filter_count  filter_size  stride  \\\n",
       "0           562            20       900            85            4       2   \n",
       "1            33            53         8             3            2       1   \n",
       "2            33            53        13            20           10       1   \n",
       "3            13            33         5            85            8       1   \n",
       "4            13            53         5            85           10       1   \n",
       "\n",
       "    runtime  freq  \n",
       "0  3.582578  1200  \n",
       "1  0.002315  1200  \n",
       "2  0.075039  1200  \n",
       "3  0.008288  1200  \n",
       "4  0.014262  1200  "
      ]
     },
     "execution_count": 6,
     "metadata": {},
     "output_type": "execute_result"
    }
   ],
   "source": [
    "df_ = df.dropna(axis=0)\n",
    "df_.head()"
   ]
  },
  {
   "cell_type": "code",
   "execution_count": 7,
   "metadata": {},
   "outputs": [
    {
     "data": {
      "text/plain": [
       "(1247697, 8)"
      ]
     },
     "execution_count": 7,
     "metadata": {},
     "output_type": "execute_result"
    }
   ],
   "source": [
    "df_.shape"
   ]
  },
  {
   "cell_type": "code",
   "execution_count": 8,
   "metadata": {},
   "outputs": [
    {
     "name": "stderr",
     "output_type": "stream",
     "text": [
      "/home/samavatian.1/.local/lib/python2.7/site-packages/ipykernel_launcher.py:1: SettingWithCopyWarning: \n",
      "A value is trying to be set on a copy of a slice from a DataFrame.\n",
      "Try using .loc[row_indexer,col_indexer] = value instead\n",
      "\n",
      "See the caveats in the documentation: http://pandas.pydata.org/pandas-docs/stable/indexing.html#indexing-view-versus-copy\n",
      "  \"\"\"Entry point for launching an IPython kernel.\n"
     ]
    }
   ],
   "source": [
    "df_['in_size'] = df_.input_size_h*df_.input_size_w"
   ]
  },
  {
   "cell_type": "code",
   "execution_count": 9,
   "metadata": {},
   "outputs": [
    {
     "data": {
      "text/html": [
       "<div>\n",
       "<style scoped>\n",
       "    .dataframe tbody tr th:only-of-type {\n",
       "        vertical-align: middle;\n",
       "    }\n",
       "\n",
       "    .dataframe tbody tr th {\n",
       "        vertical-align: top;\n",
       "    }\n",
       "\n",
       "    .dataframe thead th {\n",
       "        text-align: right;\n",
       "    }\n",
       "</style>\n",
       "<table border=\"1\" class=\"dataframe\">\n",
       "  <thead>\n",
       "    <tr style=\"text-align: right;\">\n",
       "      <th></th>\n",
       "      <th>input_size_h</th>\n",
       "      <th>input_size_w</th>\n",
       "      <th>channels</th>\n",
       "      <th>filter_count</th>\n",
       "      <th>filter_size</th>\n",
       "      <th>stride</th>\n",
       "      <th>runtime</th>\n",
       "      <th>freq</th>\n",
       "      <th>in_size</th>\n",
       "    </tr>\n",
       "  </thead>\n",
       "  <tbody>\n",
       "    <tr>\n",
       "      <th>0</th>\n",
       "      <td>562</td>\n",
       "      <td>20</td>\n",
       "      <td>900</td>\n",
       "      <td>85</td>\n",
       "      <td>4</td>\n",
       "      <td>2</td>\n",
       "      <td>3.582578</td>\n",
       "      <td>1200</td>\n",
       "      <td>11240</td>\n",
       "    </tr>\n",
       "    <tr>\n",
       "      <th>1</th>\n",
       "      <td>33</td>\n",
       "      <td>53</td>\n",
       "      <td>8</td>\n",
       "      <td>3</td>\n",
       "      <td>2</td>\n",
       "      <td>1</td>\n",
       "      <td>0.002315</td>\n",
       "      <td>1200</td>\n",
       "      <td>1749</td>\n",
       "    </tr>\n",
       "    <tr>\n",
       "      <th>2</th>\n",
       "      <td>33</td>\n",
       "      <td>53</td>\n",
       "      <td>13</td>\n",
       "      <td>20</td>\n",
       "      <td>10</td>\n",
       "      <td>1</td>\n",
       "      <td>0.075039</td>\n",
       "      <td>1200</td>\n",
       "      <td>1749</td>\n",
       "    </tr>\n",
       "    <tr>\n",
       "      <th>3</th>\n",
       "      <td>13</td>\n",
       "      <td>33</td>\n",
       "      <td>5</td>\n",
       "      <td>85</td>\n",
       "      <td>8</td>\n",
       "      <td>1</td>\n",
       "      <td>0.008288</td>\n",
       "      <td>1200</td>\n",
       "      <td>429</td>\n",
       "    </tr>\n",
       "    <tr>\n",
       "      <th>4</th>\n",
       "      <td>13</td>\n",
       "      <td>53</td>\n",
       "      <td>5</td>\n",
       "      <td>85</td>\n",
       "      <td>10</td>\n",
       "      <td>1</td>\n",
       "      <td>0.014262</td>\n",
       "      <td>1200</td>\n",
       "      <td>689</td>\n",
       "    </tr>\n",
       "  </tbody>\n",
       "</table>\n",
       "</div>"
      ],
      "text/plain": [
       "   input_size_h  input_size_w  channels  filter_count  filter_size  stride  \\\n",
       "0           562            20       900            85            4       2   \n",
       "1            33            53         8             3            2       1   \n",
       "2            33            53        13            20           10       1   \n",
       "3            13            33         5            85            8       1   \n",
       "4            13            53         5            85           10       1   \n",
       "\n",
       "    runtime  freq  in_size  \n",
       "0  3.582578  1200    11240  \n",
       "1  0.002315  1200     1749  \n",
       "2  0.075039  1200     1749  \n",
       "3  0.008288  1200      429  \n",
       "4  0.014262  1200      689  "
      ]
     },
     "execution_count": 9,
     "metadata": {},
     "output_type": "execute_result"
    }
   ],
   "source": [
    "df_.head()"
   ]
  },
  {
   "cell_type": "code",
   "execution_count": 10,
   "metadata": {},
   "outputs": [
    {
     "data": {
      "text/html": [
       "<div>\n",
       "<style scoped>\n",
       "    .dataframe tbody tr th:only-of-type {\n",
       "        vertical-align: middle;\n",
       "    }\n",
       "\n",
       "    .dataframe tbody tr th {\n",
       "        vertical-align: top;\n",
       "    }\n",
       "\n",
       "    .dataframe thead th {\n",
       "        text-align: right;\n",
       "    }\n",
       "</style>\n",
       "<table border=\"1\" class=\"dataframe\">\n",
       "  <thead>\n",
       "    <tr style=\"text-align: right;\">\n",
       "      <th></th>\n",
       "      <th>freq</th>\n",
       "      <th>in_size</th>\n",
       "      <th>channels</th>\n",
       "      <th>filter_count</th>\n",
       "      <th>filter_size</th>\n",
       "      <th>stride</th>\n",
       "    </tr>\n",
       "  </thead>\n",
       "  <tbody>\n",
       "    <tr>\n",
       "      <th>0</th>\n",
       "      <td>1200</td>\n",
       "      <td>11240</td>\n",
       "      <td>900</td>\n",
       "      <td>85</td>\n",
       "      <td>4</td>\n",
       "      <td>2</td>\n",
       "    </tr>\n",
       "    <tr>\n",
       "      <th>1</th>\n",
       "      <td>1200</td>\n",
       "      <td>1749</td>\n",
       "      <td>8</td>\n",
       "      <td>3</td>\n",
       "      <td>2</td>\n",
       "      <td>1</td>\n",
       "    </tr>\n",
       "    <tr>\n",
       "      <th>2</th>\n",
       "      <td>1200</td>\n",
       "      <td>1749</td>\n",
       "      <td>13</td>\n",
       "      <td>20</td>\n",
       "      <td>10</td>\n",
       "      <td>1</td>\n",
       "    </tr>\n",
       "    <tr>\n",
       "      <th>3</th>\n",
       "      <td>1200</td>\n",
       "      <td>429</td>\n",
       "      <td>5</td>\n",
       "      <td>85</td>\n",
       "      <td>8</td>\n",
       "      <td>1</td>\n",
       "    </tr>\n",
       "    <tr>\n",
       "      <th>4</th>\n",
       "      <td>1200</td>\n",
       "      <td>689</td>\n",
       "      <td>5</td>\n",
       "      <td>85</td>\n",
       "      <td>10</td>\n",
       "      <td>1</td>\n",
       "    </tr>\n",
       "  </tbody>\n",
       "</table>\n",
       "</div>"
      ],
      "text/plain": [
       "   freq  in_size  channels  filter_count  filter_size  stride\n",
       "0  1200    11240       900            85            4       2\n",
       "1  1200     1749         8             3            2       1\n",
       "2  1200     1749        13            20           10       1\n",
       "3  1200      429         5            85            8       1\n",
       "4  1200      689         5            85           10       1"
      ]
     },
     "execution_count": 10,
     "metadata": {},
     "output_type": "execute_result"
    }
   ],
   "source": [
    "data = df_[['freq','in_size' ,'channels','filter_count' ,'filter_size' ,'stride']]\n",
    "data = data\n",
    "data.head()"
   ]
  },
  {
   "cell_type": "code",
   "execution_count": 11,
   "metadata": {},
   "outputs": [
    {
     "data": {
      "text/plain": [
       "freq              1200\n",
       "in_size         315844\n",
       "channels          1441\n",
       "filter_count      1441\n",
       "filter_size         10\n",
       "stride               2\n",
       "dtype: int64"
      ]
     },
     "execution_count": 11,
     "metadata": {},
     "output_type": "execute_result"
    }
   ],
   "source": [
    "data.max(axis=0)"
   ]
  },
  {
   "cell_type": "code",
   "execution_count": 12,
   "metadata": {},
   "outputs": [
    {
     "data": {
      "text/html": [
       "<div>\n",
       "<style scoped>\n",
       "    .dataframe tbody tr th:only-of-type {\n",
       "        vertical-align: middle;\n",
       "    }\n",
       "\n",
       "    .dataframe tbody tr th {\n",
       "        vertical-align: top;\n",
       "    }\n",
       "\n",
       "    .dataframe thead th {\n",
       "        text-align: right;\n",
       "    }\n",
       "</style>\n",
       "<table border=\"1\" class=\"dataframe\">\n",
       "  <thead>\n",
       "    <tr style=\"text-align: right;\">\n",
       "      <th></th>\n",
       "      <th>freq</th>\n",
       "      <th>in_size</th>\n",
       "      <th>channels</th>\n",
       "      <th>filter_count</th>\n",
       "      <th>filter_size</th>\n",
       "      <th>stride</th>\n",
       "    </tr>\n",
       "  </thead>\n",
       "  <tbody>\n",
       "    <tr>\n",
       "      <th>count</th>\n",
       "      <td>1.247697e+06</td>\n",
       "      <td>1.247697e+06</td>\n",
       "      <td>1.247697e+06</td>\n",
       "      <td>1.247697e+06</td>\n",
       "      <td>1.247697e+06</td>\n",
       "      <td>1.247697e+06</td>\n",
       "    </tr>\n",
       "    <tr>\n",
       "      <th>mean</th>\n",
       "      <td>9.896576e+02</td>\n",
       "      <td>2.007905e+04</td>\n",
       "      <td>2.664450e+02</td>\n",
       "      <td>2.738212e+02</td>\n",
       "      <td>5.390605e+00</td>\n",
       "      <td>1.505033e+00</td>\n",
       "    </tr>\n",
       "    <tr>\n",
       "      <th>std</th>\n",
       "      <td>2.059989e+02</td>\n",
       "      <td>4.415531e+04</td>\n",
       "      <td>4.016502e+02</td>\n",
       "      <td>4.128720e+02</td>\n",
       "      <td>2.818734e+00</td>\n",
       "      <td>4.999749e-01</td>\n",
       "    </tr>\n",
       "    <tr>\n",
       "      <th>min</th>\n",
       "      <td>6.000000e+02</td>\n",
       "      <td>9.000000e+00</td>\n",
       "      <td>3.000000e+00</td>\n",
       "      <td>3.000000e+00</td>\n",
       "      <td>2.000000e+00</td>\n",
       "      <td>1.000000e+00</td>\n",
       "    </tr>\n",
       "    <tr>\n",
       "      <th>25%</th>\n",
       "      <td>8.000000e+02</td>\n",
       "      <td>1.053000e+03</td>\n",
       "      <td>1.300000e+01</td>\n",
       "      <td>1.300000e+01</td>\n",
       "      <td>2.000000e+00</td>\n",
       "      <td>1.000000e+00</td>\n",
       "    </tr>\n",
       "    <tr>\n",
       "      <th>50%</th>\n",
       "      <td>1.000000e+03</td>\n",
       "      <td>4.380000e+03</td>\n",
       "      <td>5.300000e+01</td>\n",
       "      <td>5.300000e+01</td>\n",
       "      <td>6.000000e+00</td>\n",
       "      <td>2.000000e+00</td>\n",
       "    </tr>\n",
       "    <tr>\n",
       "      <th>75%</th>\n",
       "      <td>1.200000e+03</td>\n",
       "      <td>1.854600e+04</td>\n",
       "      <td>3.510000e+02</td>\n",
       "      <td>3.510000e+02</td>\n",
       "      <td>8.000000e+00</td>\n",
       "      <td>2.000000e+00</td>\n",
       "    </tr>\n",
       "    <tr>\n",
       "      <th>max</th>\n",
       "      <td>1.200000e+03</td>\n",
       "      <td>3.158440e+05</td>\n",
       "      <td>1.441000e+03</td>\n",
       "      <td>1.441000e+03</td>\n",
       "      <td>1.000000e+01</td>\n",
       "      <td>2.000000e+00</td>\n",
       "    </tr>\n",
       "  </tbody>\n",
       "</table>\n",
       "</div>"
      ],
      "text/plain": [
       "               freq       in_size      channels  filter_count   filter_size  \\\n",
       "count  1.247697e+06  1.247697e+06  1.247697e+06  1.247697e+06  1.247697e+06   \n",
       "mean   9.896576e+02  2.007905e+04  2.664450e+02  2.738212e+02  5.390605e+00   \n",
       "std    2.059989e+02  4.415531e+04  4.016502e+02  4.128720e+02  2.818734e+00   \n",
       "min    6.000000e+02  9.000000e+00  3.000000e+00  3.000000e+00  2.000000e+00   \n",
       "25%    8.000000e+02  1.053000e+03  1.300000e+01  1.300000e+01  2.000000e+00   \n",
       "50%    1.000000e+03  4.380000e+03  5.300000e+01  5.300000e+01  6.000000e+00   \n",
       "75%    1.200000e+03  1.854600e+04  3.510000e+02  3.510000e+02  8.000000e+00   \n",
       "max    1.200000e+03  3.158440e+05  1.441000e+03  1.441000e+03  1.000000e+01   \n",
       "\n",
       "             stride  \n",
       "count  1.247697e+06  \n",
       "mean   1.505033e+00  \n",
       "std    4.999749e-01  \n",
       "min    1.000000e+00  \n",
       "25%    1.000000e+00  \n",
       "50%    2.000000e+00  \n",
       "75%    2.000000e+00  \n",
       "max    2.000000e+00  "
      ]
     },
     "execution_count": 12,
     "metadata": {},
     "output_type": "execute_result"
    }
   ],
   "source": [
    "data.describe()"
   ]
  },
  {
   "cell_type": "code",
   "execution_count": 13,
   "metadata": {},
   "outputs": [
    {
     "name": "stderr",
     "output_type": "stream",
     "text": [
      "/home/samavatian.1/.local/lib/python2.7/site-packages/ipykernel_launcher.py:1: RuntimeWarning: invalid value encountered in log10\n",
      "  \"\"\"Entry point for launching an IPython kernel.\n"
     ]
    },
    {
     "data": {
      "text/plain": [
       "0    3.554196\n",
       "1    0.364551\n",
       "2    1.875287\n",
       "3    0.918450\n",
       "4    1.154180\n",
       "Name: runtime, dtype: float64"
      ]
     },
     "execution_count": 13,
     "metadata": {},
     "output_type": "execute_result"
    }
   ],
   "source": [
    "target = np.log10(df_.runtime*1000)\n",
    "target.head()"
   ]
  },
  {
   "cell_type": "code",
   "execution_count": 14,
   "metadata": {},
   "outputs": [],
   "source": [
    "scaler = StandardScaler() \n",
    "scaler.fit(data)  \n",
    "data = scaler.transform(data)  \n",
    "X_train, X_test, y_train, y_test = train_test_split(data, target, test_size=0.2, random_state=0)"
   ]
  },
  {
   "cell_type": "code",
   "execution_count": 15,
   "metadata": {},
   "outputs": [
    {
     "data": {
      "text/html": [
       "<div>\n",
       "<style scoped>\n",
       "    .dataframe tbody tr th:only-of-type {\n",
       "        vertical-align: middle;\n",
       "    }\n",
       "\n",
       "    .dataframe tbody tr th {\n",
       "        vertical-align: top;\n",
       "    }\n",
       "\n",
       "    .dataframe thead th {\n",
       "        text-align: right;\n",
       "    }\n",
       "</style>\n",
       "<table border=\"1\" class=\"dataframe\">\n",
       "  <thead>\n",
       "    <tr style=\"text-align: right;\">\n",
       "      <th></th>\n",
       "      <th>0</th>\n",
       "      <th>1</th>\n",
       "      <th>2</th>\n",
       "      <th>3</th>\n",
       "      <th>4</th>\n",
       "      <th>5</th>\n",
       "    </tr>\n",
       "  </thead>\n",
       "  <tbody>\n",
       "    <tr>\n",
       "      <th>count</th>\n",
       "      <td>10331.000000</td>\n",
       "      <td>10331.000000</td>\n",
       "      <td>10331.000000</td>\n",
       "      <td>10331.000000</td>\n",
       "      <td>10331.000000</td>\n",
       "      <td>10331.000000</td>\n",
       "    </tr>\n",
       "    <tr>\n",
       "      <th>mean</th>\n",
       "      <td>0.009011</td>\n",
       "      <td>0.000379</td>\n",
       "      <td>0.001532</td>\n",
       "      <td>0.002161</td>\n",
       "      <td>0.007480</td>\n",
       "      <td>-0.000097</td>\n",
       "    </tr>\n",
       "    <tr>\n",
       "      <th>std</th>\n",
       "      <td>0.999565</td>\n",
       "      <td>1.010367</td>\n",
       "      <td>1.004977</td>\n",
       "      <td>1.001950</td>\n",
       "      <td>1.002905</td>\n",
       "      <td>1.000048</td>\n",
       "    </tr>\n",
       "    <tr>\n",
       "      <th>min</th>\n",
       "      <td>-1.553388</td>\n",
       "      <td>-0.460016</td>\n",
       "      <td>-0.662116</td>\n",
       "      <td>-0.659980</td>\n",
       "      <td>-1.199868</td>\n",
       "      <td>-0.993824</td>\n",
       "    </tr>\n",
       "    <tr>\n",
       "      <th>25%</th>\n",
       "      <td>-0.656110</td>\n",
       "      <td>-0.435572</td>\n",
       "      <td>-0.637593</td>\n",
       "      <td>-0.635267</td>\n",
       "      <td>-1.199868</td>\n",
       "      <td>-0.993824</td>\n",
       "    </tr>\n",
       "    <tr>\n",
       "      <th>50%</th>\n",
       "      <td>0.241169</td>\n",
       "      <td>-0.357675</td>\n",
       "      <td>-0.539497</td>\n",
       "      <td>-0.536414</td>\n",
       "      <td>0.213596</td>\n",
       "      <td>-0.993824</td>\n",
       "    </tr>\n",
       "    <tr>\n",
       "      <th>75%</th>\n",
       "      <td>1.138447</td>\n",
       "      <td>-0.025997</td>\n",
       "      <td>0.191313</td>\n",
       "      <td>0.200038</td>\n",
       "      <td>0.920328</td>\n",
       "      <td>1.006214</td>\n",
       "    </tr>\n",
       "    <tr>\n",
       "      <th>max</th>\n",
       "      <td>1.138447</td>\n",
       "      <td>6.934839</td>\n",
       "      <td>2.864410</td>\n",
       "      <td>2.893773</td>\n",
       "      <td>1.627060</td>\n",
       "      <td>1.006214</td>\n",
       "    </tr>\n",
       "  </tbody>\n",
       "</table>\n",
       "</div>"
      ],
      "text/plain": [
       "                  0             1             2             3             4  \\\n",
       "count  10331.000000  10331.000000  10331.000000  10331.000000  10331.000000   \n",
       "mean       0.009011      0.000379      0.001532      0.002161      0.007480   \n",
       "std        0.999565      1.010367      1.004977      1.001950      1.002905   \n",
       "min       -1.553388     -0.460016     -0.662116     -0.659980     -1.199868   \n",
       "25%       -0.656110     -0.435572     -0.637593     -0.635267     -1.199868   \n",
       "50%        0.241169     -0.357675     -0.539497     -0.536414      0.213596   \n",
       "75%        1.138447     -0.025997      0.191313      0.200038      0.920328   \n",
       "max        1.138447      6.934839      2.864410      2.893773      1.627060   \n",
       "\n",
       "                  5  \n",
       "count  10331.000000  \n",
       "mean      -0.000097  \n",
       "std        1.000048  \n",
       "min       -0.993824  \n",
       "25%       -0.993824  \n",
       "50%       -0.993824  \n",
       "75%        1.006214  \n",
       "max        1.006214  "
      ]
     },
     "execution_count": 15,
     "metadata": {},
     "output_type": "execute_result"
    }
   ],
   "source": [
    "new_df = pd.DataFrame(X_train)\n",
    "new_df.describe()"
   ]
  },
  {
   "cell_type": "code",
   "execution_count": 18,
   "metadata": {},
   "outputs": [
    {
     "name": "stdout",
     "output_type": "stream",
     "text": [
      "('accuracy: ', 76.4874003119978)\n",
      "[-0.10865994  0.08558673  0.02611897  0.36056625  0.53339693 -0.44444945]\n",
      "nonzero:  1990 / 1990\n"
     ]
    }
   ],
   "source": [
    "model = LinearRegression()\n",
    "model.fit(X_train, y_train)\n",
    "print('accuracy: ',model.score(X_test, y_test)*100)\n",
    "print (model.coef_)\n",
    "pred = model.predict(X_test)\n",
    "print 'nonzero: ',pred.shape[0]-pred[pred<0].shape[0],'/',pred.shape[0]"
   ]
  },
  {
   "cell_type": "code",
   "execution_count": 19,
   "metadata": {},
   "outputs": [
    {
     "name": "stdout",
     "output_type": "stream",
     "text": [
      "('accuracy: ', 76.48731182097018)\n",
      "[-0.10865286  0.08558159  0.02611308  0.36054396  0.53336275 -0.44442081]\n",
      "nonzero:  1990 / 1990\n"
     ]
    }
   ],
   "source": [
    "model = linear_model.Ridge(alpha=.5)\n",
    "model.fit(X_train, y_train) \n",
    "print('accuracy: ',model.score(X_test, y_test)*100)\n",
    "print (model.coef_)\n",
    "pred = model.predict(X_test)\n",
    "print 'nonzero: ',pred.shape[0]-pred[pred<0].shape[0],'/',pred.shape[0]"
   ]
  },
  {
   "cell_type": "code",
   "execution_count": 20,
   "metadata": {},
   "outputs": [
    {
     "name": "stdout",
     "output_type": "stream",
     "text": [
      "('accuracy: ', 70.57868961375921)\n",
      "[-0.00724175  0.          0.          0.26170775  0.43374895 -0.3404286 ]\n",
      "nonzero:  1990 / 1990\n"
     ]
    }
   ],
   "source": [
    "model = linear_model.Lasso(alpha=0.1)\n",
    "model.fit(X_train, y_train)\n",
    "print('accuracy: ',model.score(X_test, y_test)*100)\n",
    "print (model.coef_)\n",
    "pred = model.predict(X_test)\n",
    "print 'nonzero: ',pred.shape[0]-pred[pred<0].shape[0],'/',pred.shape[0]"
   ]
  },
  {
   "cell_type": "code",
   "execution_count": 21,
   "metadata": {},
   "outputs": [
    {
     "name": "stdout",
     "output_type": "stream",
     "text": [
      "('accuracy: ', 94.1757963568967)\n",
      "nonzero:  1990 / 1990\n"
     ]
    }
   ],
   "source": [
    "model = MLPRegressor(hidden_layer_sizes=1024,learning_rate='invscaling',early_stopping=True,max_iter=1000)\n",
    "model.fit(X_train, y_train)\n",
    "print('accuracy: ',model.score(X_test, y_test)*100)\n",
    "pred = model.predict(X_test)\n",
    "print 'nonzero: ',pred.shape[0]-pred[pred<0].shape[0],'/',pred.shape[0]"
   ]
  },
  {
   "cell_type": "code",
   "execution_count": 70,
   "metadata": {},
   "outputs": [],
   "source": [
    "\n",
    "inp = np.zeros((1000,6))\n",
    "inp[:,0]=1000\n",
    "inp[:,2]=1000\n",
    "inp[:,3]=10\n",
    "inp[:,4]=4\n",
    "inp[:,5]=1\n",
    "for i in range(1,1000):\n",
    "    inp[i][1]=randint(1,100000);"
   ]
  },
  {
   "cell_type": "code",
   "execution_count": 71,
   "metadata": {},
   "outputs": [],
   "source": [
    "inp_ = scaler.transform(inp) "
   ]
  },
  {
   "cell_type": "code",
   "execution_count": 72,
   "metadata": {},
   "outputs": [],
   "source": [
    "pred = model.predict(inp_)"
   ]
  },
  {
   "cell_type": "code",
   "execution_count": 73,
   "metadata": {},
   "outputs": [],
   "source": [
    "pred_= np.power(pred,10)"
   ]
  },
  {
   "cell_type": "code",
   "execution_count": 74,
   "metadata": {},
   "outputs": [
    {
     "data": {
      "text/plain": [
       "<matplotlib.collections.PathCollection at 0x7fb4ba3d1b90>"
      ]
     },
     "execution_count": 74,
     "metadata": {},
     "output_type": "execute_result"
    },
    {
     "data": {
      "image/png": "[encoded data removed]",
      "text/plain": [
       "<Figure size 432x288 with 1 Axes>"
      ]
     },
     "metadata": {},
     "output_type": "display_data"
    }
   ],
   "source": [
    "plt.scatter(inp[:,1],pred_)"
   ]
  },
  {
   "cell_type": "code",
   "execution_count": 22,
   "metadata": {},
   "outputs": [
    {
     "name": "stdout",
     "output_type": "stream",
     "text": [
      "('accuracy: ', 94.46953925201743)\n",
      "nonzero:  1989 / 1990\n"
     ]
    }
   ],
   "source": [
    "model = SVR(kernel='rbf', C=1e3, gamma=0.1)\n",
    "model.fit(X_train, y_train)\n",
    "print('accuracy: ',model.score(X_test, y_test)*100)\n",
    "pred = model.predict(X_test)\n",
    "print 'nonzero: ',pred.shape[0]-pred[pred<0].shape[0],'/',pred.shape[0]"
   ]
  },
  {
   "cell_type": "code",
   "execution_count": 23,
   "metadata": {},
   "outputs": [],
   "source": [
    "cv = ShuffleSplit(n_splits=5, test_size=0.3, random_state=0)\n",
    "model = MLPRegressor(hidden_layer_sizes=1024,learning_rate='invscaling',early_stopping=True,max_iter=1000)"
   ]
  },
  {
   "cell_type": "code",
   "execution_count": 24,
   "metadata": {},
   "outputs": [
    {
     "data": {
      "text/plain": [
       "array([0.83982381, 0.958673  , 0.95112832, 0.96121759, 0.94762112])"
      ]
     },
     "execution_count": 24,
     "metadata": {},
     "output_type": "execute_result"
    }
   ],
   "source": [
    "scaler.fit(data)  \n",
    "data_ = scaler.transform(data)\n",
    "scores = cross_val_score(model, data_, target, cv=cv) \n",
    "scores"
   ]
  },
  {
   "cell_type": "code",
   "execution_count": 50,
   "metadata": {},
   "outputs": [],
   "source": [
    "bias = np.asarray(model.intercepts_)\n",
    "arr = np.asarray(model.coefs_)"
   ]
  },
  {
   "cell_type": "code",
   "execution_count": 68,
   "metadata": {},
   "outputs": [],
   "source": [
    "if os.path.exists(\"params.txt\"):\n",
    "    os.remove(\"params.txt\")\n",
    "f=open('params.txt','ab')\n",
    "print >> f, \"L0\"+\" W\"+\" \"+str(arr[0].shape[0])+\" \"+str(arr[0].shape[1]) \n",
    "np.savetxt(f,arr[0])\n",
    "print >> f, \"L0\"+\" B\"+\" \"+str(bias[0].shape[0])+\" 1\"\n",
    "np.savetxt(f,bias[0])\n",
    "\n",
    "print >> f, \"L1\"+\" W\"+\" \"+str(arr[1].shape[0])+\" \"+str(arr[1].shape[1]) \n",
    "np.savetxt(f,arr[1])\n",
    "print >> f, \"L1\"+\" B\"+\" \"+str(bias[1].shape[0])+\" 1\"\n",
    "np.savetxt(f,bias[1])\n",
    "f.close()"
   ]
  },
  {
   "cell_type": "code",
   "execution_count": 69,
   "metadata": {},
   "outputs": [
    {
     "name": "stdout",
     "output_type": "stream",
     "text": [
      "(1990, 6)\n",
      "(1990,)\n"
     ]
    }
   ],
   "source": [
    "print X_test.shape\n",
    "np.savetxt('input.txt',X_test)\n",
    "\n",
    "print model.predict(X_test).shape\n",
    "np.savetxt('output.txt',model.predict(X_test))\n"
   ]
  },
  {
   "cell_type": "code",
   "execution_count": 32,
   "metadata": {},
   "outputs": [
    {
     "name": "stdout",
     "output_type": "stream",
     "text": [
      "('accuracy: ', 79.16437324660866)\n",
      "nonzero:  1990 / 1990\n"
     ]
    }
   ],
   "source": [
    "model = KNeighborsRegressor(n_neighbors=10, weights='distance')\n",
    "model.fit(X_train, y_train)\n",
    "print('accuracy: ',model.score(X_test, y_test)*100)\n",
    "pred = model.predict(X_test)\n",
    "print 'nonzero: ',pred.shape[0]-pred[pred<0].shape[0],'/',pred.shape[0]"
   ]
  }
 ],
 "metadata": {
  "kernelspec": {
   "display_name": "Python 2",
   "language": "python",
   "name": "python2"
  },
  "language_info": {
   "codemirror_mode": {
    "name": "ipython",
    "version": 2
   },
   "file_extension": ".py",
   "mimetype": "text/x-python",
   "name": "python",
   "nbconvert_exporter": "python",
   "pygments_lexer": "ipython2",
   "version": "2.7.14"
  }
 },
 "nbformat": 4,
 "nbformat_minor": 2
}
