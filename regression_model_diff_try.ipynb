{
 "cells": [
  {
   "cell_type": "code",
   "execution_count": 31,
   "metadata": {},
   "outputs": [],
   "source": [
    "import os\n",
    "import numpy as np\n",
    "import pandas as pd\n",
    "from random import randint,seed\n",
    "from tqdm import tqdm\n",
    "from sklearn import linear_model\n",
    "from sklearn.linear_model import LinearRegression\n",
    "from sklearn.model_selection import train_test_split\n",
    "from sklearn.svm import SVR\n",
    "from sklearn.neural_network import MLPRegressor\n",
    "from sklearn.neighbors import KNeighborsRegressor\n",
    "import matplotlib.pyplot as plt\n",
    "from sklearn.preprocessing import StandardScaler,MinMaxScaler \n",
    "from sklearn.model_selection import cross_val_score\n",
    "from sklearn.model_selection import ShuffleSplit\n",
    "from sklearn.ensemble import GradientBoostingRegressor as GBT"
   ]
  },
  {
   "cell_type": "code",
   "execution_count": 32,
   "metadata": {},
   "outputs": [
    {
     "name": "stdout",
     "output_type": "stream",
     "text": [
      "(4300, 9)\n",
      "(2800, 9)\n",
      "(2500, 9)\n",
      "(3400, 9)\n"
     ]
    }
   ],
   "source": [
    "\"\"\"\n",
    "df1 = pd.read_csv('data_conv/new_dataset/conv1.csv')\n",
    "df1['freq'] = 1200\n",
    "print (df1.shape)\n",
    "df2 = pd.read_csv('data_conv/new_dataset/conv2.csv')\n",
    "df2['freq'] = 800\n",
    "print (df2.shape)\n",
    "df3 = pd.read_csv('data_conv/new_dataset/conv3.csv')\n",
    "df3['freq'] = 600\n",
    "print (df3.shape)\n",
    "df4 = pd.read_csv('data_conv/new_dataset/conv4.csv')\n",
    "df4['freq'] = 1000\n",
    "print (df4.shape)\n",
    "\"\"\"\n",
    "df1 = pd.read_csv('data_conv/conv1.csv')\n",
    "df1['freq'] = 1200\n",
    "print (df1.shape)\n",
    "df2 = pd.read_csv('data_conv/conv2.csv')\n",
    "df2['freq'] = 800\n",
    "print (df2.shape)\n",
    "df3 = pd.read_csv('data_conv/conv3.csv')\n",
    "df3['freq'] = 600\n",
    "print (df3.shape)\n",
    "df4 = pd.read_csv('data_conv/conv4.csv')\n",
    "df4['freq'] = 1000\n",
    "print (df4.shape)"
   ]
  },
  {
   "cell_type": "code",
   "execution_count": 33,
   "metadata": {},
   "outputs": [],
   "source": [
    "df = pd.concat([df1, df2,df3,df4], ignore_index=True)"
   ]
  },
  {
   "cell_type": "code",
   "execution_count": 34,
   "metadata": {},
   "outputs": [
    {
     "data": {
      "text/html": [
       "<div>\n",
       "<style scoped>\n",
       "    .dataframe tbody tr th:only-of-type {\n",
       "        vertical-align: middle;\n",
       "    }\n",
       "\n",
       "    .dataframe tbody tr th {\n",
       "        vertical-align: top;\n",
       "    }\n",
       "\n",
       "    .dataframe thead th {\n",
       "        text-align: right;\n",
       "    }\n",
       "</style>\n",
       "<table border=\"1\" class=\"dataframe\">\n",
       "  <thead>\n",
       "    <tr style=\"text-align: right;\">\n",
       "      <th></th>\n",
       "      <th>Unnamed: 0</th>\n",
       "      <th>input_size_h</th>\n",
       "      <th>input_size_w</th>\n",
       "      <th>channels</th>\n",
       "      <th>filter_count</th>\n",
       "      <th>filter_size</th>\n",
       "      <th>stride</th>\n",
       "      <th>runtime</th>\n",
       "      <th>freq</th>\n",
       "    </tr>\n",
       "  </thead>\n",
       "  <tbody>\n",
       "    <tr>\n",
       "      <th>0</th>\n",
       "      <td>0</td>\n",
       "      <td>562</td>\n",
       "      <td>20</td>\n",
       "      <td>900</td>\n",
       "      <td>85</td>\n",
       "      <td>4</td>\n",
       "      <td>2</td>\n",
       "      <td>3.582578</td>\n",
       "      <td>1200</td>\n",
       "    </tr>\n",
       "    <tr>\n",
       "      <th>1</th>\n",
       "      <td>1</td>\n",
       "      <td>33</td>\n",
       "      <td>53</td>\n",
       "      <td>8</td>\n",
       "      <td>3</td>\n",
       "      <td>2</td>\n",
       "      <td>1</td>\n",
       "      <td>0.002315</td>\n",
       "      <td>1200</td>\n",
       "    </tr>\n",
       "    <tr>\n",
       "      <th>2</th>\n",
       "      <td>2</td>\n",
       "      <td>33</td>\n",
       "      <td>53</td>\n",
       "      <td>13</td>\n",
       "      <td>20</td>\n",
       "      <td>10</td>\n",
       "      <td>1</td>\n",
       "      <td>0.075039</td>\n",
       "      <td>1200</td>\n",
       "    </tr>\n",
       "    <tr>\n",
       "      <th>3</th>\n",
       "      <td>3</td>\n",
       "      <td>13</td>\n",
       "      <td>33</td>\n",
       "      <td>5</td>\n",
       "      <td>85</td>\n",
       "      <td>8</td>\n",
       "      <td>1</td>\n",
       "      <td>0.008288</td>\n",
       "      <td>1200</td>\n",
       "    </tr>\n",
       "    <tr>\n",
       "      <th>4</th>\n",
       "      <td>4</td>\n",
       "      <td>13</td>\n",
       "      <td>53</td>\n",
       "      <td>5</td>\n",
       "      <td>85</td>\n",
       "      <td>10</td>\n",
       "      <td>1</td>\n",
       "      <td>0.014262</td>\n",
       "      <td>1200</td>\n",
       "    </tr>\n",
       "  </tbody>\n",
       "</table>\n",
       "</div>"
      ],
      "text/plain": [
       "   Unnamed: 0  input_size_h  input_size_w  channels  filter_count  \\\n",
       "0           0           562            20       900            85   \n",
       "1           1            33            53         8             3   \n",
       "2           2            33            53        13            20   \n",
       "3           3            13            33         5            85   \n",
       "4           4            13            53         5            85   \n",
       "\n",
       "   filter_size  stride   runtime  freq  \n",
       "0            4       2  3.582578  1200  \n",
       "1            2       1  0.002315  1200  \n",
       "2           10       1  0.075039  1200  \n",
       "3            8       1  0.008288  1200  \n",
       "4           10       1  0.014262  1200  "
      ]
     },
     "execution_count": 34,
     "metadata": {},
     "output_type": "execute_result"
    }
   ],
   "source": [
    "df.head()"
   ]
  },
  {
   "cell_type": "code",
   "execution_count": 35,
   "metadata": {},
   "outputs": [
    {
     "data": {
      "text/html": [
       "<div>\n",
       "<style scoped>\n",
       "    .dataframe tbody tr th:only-of-type {\n",
       "        vertical-align: middle;\n",
       "    }\n",
       "\n",
       "    .dataframe tbody tr th {\n",
       "        vertical-align: top;\n",
       "    }\n",
       "\n",
       "    .dataframe thead th {\n",
       "        text-align: right;\n",
       "    }\n",
       "</style>\n",
       "<table border=\"1\" class=\"dataframe\">\n",
       "  <thead>\n",
       "    <tr style=\"text-align: right;\">\n",
       "      <th></th>\n",
       "      <th>input_size_h</th>\n",
       "      <th>input_size_w</th>\n",
       "      <th>channels</th>\n",
       "      <th>filter_count</th>\n",
       "      <th>filter_size</th>\n",
       "      <th>stride</th>\n",
       "      <th>runtime</th>\n",
       "      <th>freq</th>\n",
       "    </tr>\n",
       "  </thead>\n",
       "  <tbody>\n",
       "    <tr>\n",
       "      <th>0</th>\n",
       "      <td>562</td>\n",
       "      <td>20</td>\n",
       "      <td>900</td>\n",
       "      <td>85</td>\n",
       "      <td>4</td>\n",
       "      <td>2</td>\n",
       "      <td>3.582578</td>\n",
       "      <td>1200</td>\n",
       "    </tr>\n",
       "    <tr>\n",
       "      <th>1</th>\n",
       "      <td>33</td>\n",
       "      <td>53</td>\n",
       "      <td>8</td>\n",
       "      <td>3</td>\n",
       "      <td>2</td>\n",
       "      <td>1</td>\n",
       "      <td>0.002315</td>\n",
       "      <td>1200</td>\n",
       "    </tr>\n",
       "    <tr>\n",
       "      <th>2</th>\n",
       "      <td>33</td>\n",
       "      <td>53</td>\n",
       "      <td>13</td>\n",
       "      <td>20</td>\n",
       "      <td>10</td>\n",
       "      <td>1</td>\n",
       "      <td>0.075039</td>\n",
       "      <td>1200</td>\n",
       "    </tr>\n",
       "    <tr>\n",
       "      <th>3</th>\n",
       "      <td>13</td>\n",
       "      <td>33</td>\n",
       "      <td>5</td>\n",
       "      <td>85</td>\n",
       "      <td>8</td>\n",
       "      <td>1</td>\n",
       "      <td>0.008288</td>\n",
       "      <td>1200</td>\n",
       "    </tr>\n",
       "    <tr>\n",
       "      <th>4</th>\n",
       "      <td>13</td>\n",
       "      <td>53</td>\n",
       "      <td>5</td>\n",
       "      <td>85</td>\n",
       "      <td>10</td>\n",
       "      <td>1</td>\n",
       "      <td>0.014262</td>\n",
       "      <td>1200</td>\n",
       "    </tr>\n",
       "  </tbody>\n",
       "</table>\n",
       "</div>"
      ],
      "text/plain": [
       "   input_size_h  input_size_w  channels  filter_count  filter_size  stride  \\\n",
       "0           562            20       900            85            4       2   \n",
       "1            33            53         8             3            2       1   \n",
       "2            33            53        13            20           10       1   \n",
       "3            13            33         5            85            8       1   \n",
       "4            13            53         5            85           10       1   \n",
       "\n",
       "    runtime  freq  \n",
       "0  3.582578  1200  \n",
       "1  0.002315  1200  \n",
       "2  0.075039  1200  \n",
       "3  0.008288  1200  \n",
       "4  0.014262  1200  "
      ]
     },
     "execution_count": 35,
     "metadata": {},
     "output_type": "execute_result"
    }
   ],
   "source": [
    "df = df.drop(columns=['Unnamed: 0'])\n",
    "df.head()"
   ]
  },
  {
   "cell_type": "code",
   "execution_count": 36,
   "metadata": {},
   "outputs": [],
   "source": [
    "df_ = df.copy()"
   ]
  },
  {
   "cell_type": "code",
   "execution_count": 37,
   "metadata": {},
   "outputs": [
    {
     "name": "stderr",
     "output_type": "stream",
     "text": [
      "/home/samavatian.1/.local/lib/python2.7/site-packages/ipykernel_launcher.py:1: RuntimeWarning: invalid value encountered in log10\n",
      "  \"\"\"Entry point for launching an IPython kernel.\n"
     ]
    }
   ],
   "source": [
    "df_['runtime_log'] = np.log10(df_.runtime*1000)"
   ]
  },
  {
   "cell_type": "code",
   "execution_count": 40,
   "metadata": {},
   "outputs": [],
   "source": [
    "df__ = df_.copy()\n",
    "df__ = df__.dropna(axis=0)\n",
    "\n",
    "data = df__[['freq','input_size_h','input_size_w' ,'channels','filter_count' ,'filter_size' ,'stride']]\n",
    "target = df__.runtime_log\n",
    "data_ = (data-data.mean())/data.std()\n",
    "X_train, X_test, y_train, y_test = train_test_split(data_, target, test_size=0.2, random_state=0)"
   ]
  },
  {
   "cell_type": "code",
   "execution_count": 41,
   "metadata": {},
   "outputs": [
    {
     "name": "stdout",
     "output_type": "stream",
     "text": [
      "('accuracy: ', 77.92997721585138)\n"
     ]
    }
   ],
   "source": [
    "model = LinearRegression()\n",
    "model.fit(X_train, y_train)\n",
    "print('accuracy: ',model.score(X_test, y_test)*100)"
   ]
  },
  {
   "cell_type": "code",
   "execution_count": 43,
   "metadata": {},
   "outputs": [],
   "source": [
    "df__ = df_.copy()\n",
    "df__ = df__.dropna(axis=0)\n",
    "\n",
    "df__['metric_1'] = df__.input_size_h*df__.input_size_w/df__.channels\n",
    "df__['metric_2'] = df__.filter_count*df__.filter_size/df__.stride\n",
    "\n",
    "data = df__[['freq','metric_1','metric_2']]\n",
    "target = df__.runtime_log\n",
    "data_ = (data-data.mean())/data.std()\n",
    "X_train, X_test, y_train, y_test = train_test_split(data_, target, test_size=0.2, random_state=0)"
   ]
  },
  {
   "cell_type": "code",
   "execution_count": 44,
   "metadata": {},
   "outputs": [
    {
     "name": "stdout",
     "output_type": "stream",
     "text": [
      "('accuracy: ', 15.816048139204797)\n"
     ]
    }
   ],
   "source": [
    "model = LinearRegression()\n",
    "model.fit(X_train, y_train)\n",
    "print('accuracy: ',model.score(X_test, y_test)*100)"
   ]
  },
  {
   "cell_type": "code",
   "execution_count": 45,
   "metadata": {},
   "outputs": [],
   "source": [
    "df__ = df_.copy()\n",
    "df__ = df__.dropna(axis=0)\n",
    "\n",
    "df__['metric_1'] = df__.input_size_h*df__.input_size_w\n",
    "df__['metric_2'] = df__.filter_count*df__.filter_size\n",
    "\n",
    "data = df__[['freq','metric_1','metric_2','channels','stride']]\n",
    "target = df__.runtime_log\n",
    "data_ = (data-data.mean())/data.std()\n",
    "X_train, X_test, y_train, y_test = train_test_split(data_, target, test_size=0.2, random_state=0)"
   ]
  },
  {
   "cell_type": "code",
   "execution_count": 46,
   "metadata": {},
   "outputs": [
    {
     "name": "stdout",
     "output_type": "stream",
     "text": [
      "('accuracy: ', 54.78494586707179)\n"
     ]
    }
   ],
   "source": [
    "model = LinearRegression()\n",
    "model.fit(X_train, y_train)\n",
    "print('accuracy: ',model.score(X_test, y_test)*100)"
   ]
  },
  {
   "cell_type": "code",
   "execution_count": 47,
   "metadata": {},
   "outputs": [],
   "source": [
    "df__ = df_.copy()\n",
    "df__ = df__.dropna(axis=0)\n",
    "\n",
    "df__['metric_1'] = df__.input_size_h*df__.input_size_w\n",
    "#df__['metric_2'] = df__.filter_count*df__.filter_size\n",
    "\n",
    "data = df__[['freq','metric_1','filter_count','filter_size','channels','stride']]\n",
    "target = df__.runtime_log\n",
    "data_ = (data-data.mean())/data.std()\n",
    "X_train, X_test, y_train, y_test = train_test_split(data_, target, test_size=0.2, random_state=0)"
   ]
  },
  {
   "cell_type": "code",
   "execution_count": 48,
   "metadata": {},
   "outputs": [
    {
     "name": "stdout",
     "output_type": "stream",
     "text": [
      "('accuracy: ', 67.07122968607375)\n"
     ]
    }
   ],
   "source": [
    "model = LinearRegression()\n",
    "model.fit(X_train, y_train)\n",
    "print('accuracy: ',model.score(X_test, y_test)*100)"
   ]
  },
  {
   "cell_type": "code",
   "execution_count": 49,
   "metadata": {},
   "outputs": [],
   "source": [
    "df__ = df_.copy()\n",
    "df__ = df__.dropna(axis=0)\n",
    "\n",
    "df__['metric_1'] = df__.input_size_h*df__.input_size_w*df__.channels\n",
    "df__['metric_2'] = df__.filter_count*df__.filter_size\n",
    "#df__['metric_2'] = df__.filter_count*df__.filter_size\n",
    "\n",
    "data = df__[['freq','metric_1','metric_2','filter_count','filter_size','channels','stride']]\n",
    "target = df__.runtime_log\n",
    "data_ = (data-data.mean())/data.std()\n",
    "X_train, X_test, y_train, y_test = train_test_split(data_, target, test_size=0.2, random_state=0)"
   ]
  },
  {
   "cell_type": "code",
   "execution_count": 50,
   "metadata": {},
   "outputs": [
    {
     "name": "stdout",
     "output_type": "stream",
     "text": [
      "('accuracy: ', 58.63903365277212)\n"
     ]
    }
   ],
   "source": [
    "model = LinearRegression()\n",
    "model.fit(X_train, y_train)\n",
    "print('accuracy: ',model.score(X_test, y_test)*100)"
   ]
  },
  {
   "cell_type": "code",
   "execution_count": 23,
   "metadata": {},
   "outputs": [
    {
     "data": {
      "text/plain": [
       "array([[ 0.24103292,  0.66454218,  0.66716818, -0.66128718, -0.50833865,\n",
       "        -0.8455401 , -0.99478146],\n",
       "       [ 0.24103292, -0.64570789, -0.64557429,  0.588627  ,  0.59997282,\n",
       "        -0.8455401 , -0.99478146],\n",
       "       [ 0.24103292, -0.75099584, -0.75106253,  0.588627  ,  1.86661451,\n",
       "        -0.8455401 , -0.99478146],\n",
       "       [ 0.24103292, -0.54041994, -0.54008606, -0.47711515,  0.37979488,\n",
       "        -0.49202833, -0.99478146]])"
      ]
     },
     "execution_count": 23,
     "metadata": {},
     "output_type": "execute_result"
    }
   ],
   "source": [
    "l = [[1000,256,256,3,64,3,1],[1000,32,32,512,512,3,1],[1000,14,14,512,1024,3,1],[1000,50,50,78,423,4,1]]\n",
    "std = np.asarray(data.std())\n",
    "mean = np.asarray(data.mean())\n",
    "l = np.asarray(l)\n",
    "l = (l - mean)/std\n",
    "l"
   ]
  },
  {
   "cell_type": "code",
   "execution_count": 49,
   "metadata": {},
   "outputs": [
    {
     "data": {
      "text/plain": [
       "array([0.15782705, 1.15890143, 0.32622965, 1.14180513])"
      ]
     },
     "execution_count": 49,
     "metadata": {},
     "output_type": "execute_result"
    }
   ],
   "source": [
    "np.power(10,model.predict(l))/1000"
   ]
  },
  {
   "cell_type": "code",
   "execution_count": 40,
   "metadata": {},
   "outputs": [
    {
     "name": "stdout",
     "output_type": "stream",
     "text": [
      "('accuracy: ', 99.45782678403022)\n",
      "nonzero:  2495 / 2581\n"
     ]
    }
   ],
   "source": [
    "model = MLPRegressor(hidden_layer_sizes=512,learning_rate='invscaling',early_stopping=True,max_iter=1000)\n",
    "model.fit(X_train, y_train)\n",
    "print('accuracy: ',model.score(X_test, y_test)*100)\n",
    "pred = model.predict(X_test)\n",
    "print 'nonzero: ',pred.shape[0]-pred[pred<0].shape[0],'/',pred.shape[0]"
   ]
  },
  {
   "cell_type": "code",
   "execution_count": 48,
   "metadata": {},
   "outputs": [
    {
     "name": "stdout",
     "output_type": "stream",
     "text": [
      "('accuracy: ', 99.807292712975)\n"
     ]
    }
   ],
   "source": [
    "model = GBT(n_estimators=1000,max_depth=3)\n",
    "model.fit(X_train, y_train)\n",
    "print('accuracy: ',model.score(X_test, y_test)*100)\n",
    "#pred = model.predict(X_test)\n",
    "#print 'nonzero: ',pred.shape[0]-pred[pred<0].shape[0],'/',pred.shape[0]"
   ]
  },
  {
   "cell_type": "code",
   "execution_count": 25,
   "metadata": {},
   "outputs": [],
   "source": [
    "bias = np.asarray(model.intercepts_)\n",
    "arr = np.asarray(model.coefs_)"
   ]
  },
  {
   "cell_type": "code",
   "execution_count": 26,
   "metadata": {},
   "outputs": [],
   "source": [
    "if os.path.exists(\"params.txt\"):\n",
    "    os.remove(\"params.txt\")\n",
    "f=open('params.txt','ab')\n",
    "print >> f, \"L0\"+\" W\"+\" \"+str(arr[0].shape[0])+\" \"+str(arr[0].shape[1]) \n",
    "np.savetxt(f,arr[0])\n",
    "print >> f, \"L0\"+\" B\"+\" \"+str(bias[0].shape[0])+\" 1\"\n",
    "np.savetxt(f,bias[0])\n",
    "\n",
    "print >> f, \"L1\"+\" W\"+\" \"+str(arr[1].shape[0])+\" \"+str(arr[1].shape[1]) \n",
    "np.savetxt(f,arr[1])\n",
    "print >> f, \"L1\"+\" B\"+\" \"+str(bias[1].shape[0])+\" 1\"\n",
    "np.savetxt(f,bias[1])\n",
    "f.close()"
   ]
  },
  {
   "cell_type": "code",
   "execution_count": 27,
   "metadata": {},
   "outputs": [
    {
     "name": "stdout",
     "output_type": "stream",
     "text": [
      "(15040, 7)\n",
      "(15040,)\n"
     ]
    }
   ],
   "source": [
    "print X_test.shape\n",
    "np.savetxt('input.txt',X_test)\n",
    "\n",
    "print model.predict(X_test).shape\n",
    "np.savetxt('output.txt',model.predict(X_test))\n"
   ]
  },
  {
   "cell_type": "code",
   "execution_count": 28,
   "metadata": {},
   "outputs": [
    {
     "data": {
      "text/plain": [
       "\"\\nmodel = KNeighborsRegressor(n_neighbors=10, weights='distance')\\nmodel.fit(X_train, y_train)\\nprint('accuracy: ',model.score(X_test, y_test)*100)\\npred = model.predict(X_test)\\nprint 'nonzero: ',pred.shape[0]-pred[pred<0].shape[0],'/',pred.shape[0]\\n\""
      ]
     },
     "execution_count": 28,
     "metadata": {},
     "output_type": "execute_result"
    }
   ],
   "source": [
    "\"\"\"\n",
    "model = KNeighborsRegressor(n_neighbors=10, weights='distance')\n",
    "model.fit(X_train, y_train)\n",
    "print('accuracy: ',model.score(X_test, y_test)*100)\n",
    "pred = model.predict(X_test)\n",
    "print 'nonzero: ',pred.shape[0]-pred[pred<0].shape[0],'/',pred.shape[0]\n",
    "\"\"\""
   ]
  },
  {
   "cell_type": "code",
   "execution_count": 29,
   "metadata": {},
   "outputs": [
    {
     "data": {
      "text/plain": [
       "\"\\nmodel = SVR(kernel='rbf', C=1e3, gamma=0.1)\\nmodel.fit(X_train, y_train)\\nprint('accuracy: ',model.score(X_test, y_test)*100)\\npred = model.predict(X_test)\\nprint 'nonzero: ',pred.shape[0]-pred[pred<0].shape[0],'/',pred.shape[0]\\n\""
      ]
     },
     "execution_count": 29,
     "metadata": {},
     "output_type": "execute_result"
    }
   ],
   "source": [
    "\"\"\"\n",
    "model = SVR(kernel='rbf', C=1e3, gamma=0.1)\n",
    "model.fit(X_train, y_train)\n",
    "print('accuracy: ',model.score(X_test, y_test)*100)\n",
    "pred = model.predict(X_test)\n",
    "print 'nonzero: ',pred.shape[0]-pred[pred<0].shape[0],'/',pred.shape[0]\n",
    "\"\"\""
   ]
  },
  {
   "cell_type": "code",
   "execution_count": 30,
   "metadata": {},
   "outputs": [
    {
     "data": {
      "text/plain": [
       "\"\\ncv = ShuffleSplit(n_splits=5, test_size=0.3, random_state=0)\\nmodel = MLPRegressor(hidden_layer_sizes=1024,learning_rate='invscaling',early_stopping=True,max_iter=1000)\\n\""
      ]
     },
     "execution_count": 30,
     "metadata": {},
     "output_type": "execute_result"
    }
   ],
   "source": [
    "\"\"\"\n",
    "cv = ShuffleSplit(n_splits=5, test_size=0.3, random_state=0)\n",
    "model = MLPRegressor(hidden_layer_sizes=1024,learning_rate='invscaling',early_stopping=True,max_iter=1000)\n",
    "\"\"\""
   ]
  },
  {
   "cell_type": "code",
   "execution_count": 31,
   "metadata": {},
   "outputs": [
    {
     "data": {
      "text/plain": [
       "'\\nscaler.fit(data)  \\ndata_ = scaler.transform(data)\\nscores = cross_val_score(model, data_, target, cv=cv) \\nscores\\n'"
      ]
     },
     "execution_count": 31,
     "metadata": {},
     "output_type": "execute_result"
    }
   ],
   "source": [
    "\"\"\"\n",
    "scaler.fit(data)  \n",
    "data_ = scaler.transform(data)\n",
    "scores = cross_val_score(model, data_, target, cv=cv) \n",
    "scores\n",
    "\"\"\""
   ]
  },
  {
   "cell_type": "code",
   "execution_count": null,
   "metadata": {},
   "outputs": [],
   "source": []
  }
 ],
 "metadata": {
  "kernelspec": {
   "display_name": "Python 2",
   "language": "python",
   "name": "python2"
  },
  "language_info": {
   "codemirror_mode": {
    "name": "ipython",
    "version": 2
   },
   "file_extension": ".py",
   "mimetype": "text/x-python",
   "name": "python",
   "nbconvert_exporter": "python",
   "pygments_lexer": "ipython2",
   "version": "2.7.14"
  }
 },
 "nbformat": 4,
 "nbformat_minor": 2
}
